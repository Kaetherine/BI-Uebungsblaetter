{
  "cells": [
    {
      "cell_type": "markdown",
      "metadata": {
        "id": "view-in-github",
        "colab_type": "text"
      },
      "source": [
        "<a href=\"https://colab.research.google.com/github/Kaetherine/BI-Uebungsblaetter/blob/main/LE2/BI23_Uebungsblatt_LE2_ML.ipynb\" target=\"_parent\"><img src=\"https://colab.research.google.com/assets/colab-badge.svg\" alt=\"Open In Colab\"/></a>"
      ]
    },
    {
      "cell_type": "markdown",
      "id": "6da4ea6c-5543-4913-970d-06f1a41d0f65",
      "metadata": {
        "id": "6da4ea6c-5543-4913-970d-06f1a41d0f65"
      },
      "source": [
        "# Business Intelligence (WI-201) / 2023\n",
        "#### Prof. Dr. Sebastian Fischer\n"
      ]
    },
    {
      "cell_type": "markdown",
      "id": "6de36c83-4ba8-4b35-86e8-903f31347070",
      "metadata": {
        "id": "6de36c83-4ba8-4b35-86e8-903f31347070"
      },
      "source": [
        "## Übungsblatt 2: Machine Learning"
      ]
    },
    {
      "cell_type": "markdown",
      "id": "c45ab0b7-1dde-48b5-a84e-0adea701e3bf",
      "metadata": {
        "id": "c45ab0b7-1dde-48b5-a84e-0adea701e3bf"
      },
      "source": [
        "> *Durch die Bearbeitung dieses Übungsblattes werden die Lerninhalte der Lerneinheit 2 praktisch angewendet und gefestigt. Durch pünktliche Abgabe eines vollständigen Übungsblattes werden Punkte auf die Gesamtbewertung erzielt. Das Übungsblatt ist eine Individualleistung. Gleichzeitig darf mit maximal zwei weiteren Studierenden gemeinsam die eigene Lösung besprochen werden. Sollte eine Lösung Elemente von anderen Studierenden oder Quellen beinhalten, die nicht als solche gekennzeichnet wurden, wird das Übungsblatt für alle Beteiligten mit 0 Punkten bewertet.*"
      ]
    },
    {
      "cell_type": "markdown",
      "id": "dad68897-a01f-4689-94e8-349f1e0ec43b",
      "metadata": {
        "id": "dad68897-a01f-4689-94e8-349f1e0ec43b"
      },
      "source": [
        "## Einführung (Business Understanding)"
      ]
    },
    {
      "cell_type": "markdown",
      "id": "c9c4ce3c-6ff2-4af8-beaa-aa3e7aa575c2",
      "metadata": {
        "id": "c9c4ce3c-6ff2-4af8-beaa-aa3e7aa575c2"
      },
      "source": [
        "Eure Eltern sind Immobilienmakler:innen in Melbourne (Australien) und haben davon gehört, dass ihr Experten der Datenalyse seid. Bisher haben sie Verkaufspreise ihrer Immobilien immer aus dem Bauch heraus auf Basis der Immobilienmerkmale wie Quadratmeter oder Raumanzahl ermittelt. Seit kurzem gehen die Verkäufe zurück, weil konkurierende Immobilienmakler:innen besser in der Lage sind den richtigen Preispunkt für ihre Kunden zu finden. Eure Eltern hoffen, dass ihnen eine \"intelligente\" Software dabei helfen kann den besten Preispunkt für ihre zukünftigen Immobilien zu finden. Das folgende Übungsblatt soll ein derartigen Preis-Schätzer für Immobilien bauen. \n",
        "\n",
        "Nach kurzem Gespräch mit euren Eltern findet ihr heraus, dass sie eine Liste aller in der Vergangenheit verkauften Immobilien (von sich und von ihrer Konkurrenz), deren Eigenschaften und Verkaufspreise haben. Wir werden nun mit Methoden des machinellen Lernens ein Modell bauen, welches Immobilienpreise von zukünftigen Häusern schätzt. Das Modell wird \"trainniert\" auf Basis der vergangenen erfolgreich verkauften Immobilien. \n",
        "\n",
        "Wir beginnen mit einem Modell namens Entscheidungsbaum (Decision Tree). Es gibt sehr viele unterschiedliche Modelle, die noch genauere Vorhersagen liefern könnten. Aber Entscheidungsbäume sind einfach zu verstehen und sie sind der Grundbaustein für einige der besten Modelle in der Datenwissenschaft.\n",
        "\n",
        "Der Einfachheit halber beginnen wir mit dem einfachsten möglichen Entscheidungsbaum:\n",
        "\n",
        "\n",
        "<div>\n",
        "<img src=\"https://github.com/Kaetherine/BI-Uebungsblaetter/blob/main/LE2/img/Entscheidungsbaum_1.png?raw=1\" width=\"30%\"/>\n",
        "</div>\n",
        "\n",
        "Dieser einfache Entscheidungsbaum teilt Häuser in nur zwei Kategorien ein. Der prognostizierte Preis für jedes in Frage kommende Haus ist der historische Durchschnittspreis von Häusern derselben Kategorie.\n",
        "\n",
        "Wir verwenden Daten, um zu entscheiden, wie die Häuser in zwei Gruppen aufgeteilt werden, und dann erneut, um den prognostizierten Preis in jeder Gruppe zu bestimmen. Dieser Schritt des Erfassens von Mustern aus Daten wird als Anpassen oder **Trainieren** des Modells bezeichnet. Die zum Anpassen des Modells verwendeten Daten werden als **Trainingsdaten** bezeichnet.\n",
        "\n",
        "---\n",
        "### Verbesserung des Entscheidungsbaums\n",
        "Was meint ihr, welcher der beiden folgenden Entscheidungsbäume ist besser?\n",
        "\n",
        "<div>\n",
        "<img src=\"https://github.com/Kaetherine/BI-Uebungsblaetter/blob/main/LE2/img/Entscheidungsbaum_2.png?raw=1\" width=\"60%\"/>\n",
        "</div>\n",
        "\n",
        "Der Entscheidungsbaum auf der linken Seite (Entscheidungsbaum 1) ist wahrscheinlich sinnvoller, da er die Realität widerspiegelt, dass Häuser mit mehr Schlafzimmern tendenziell zu höheren Preisen verkauft werden als Häuser mit weniger Schlafzimmern. Der größte Nachteil dieses Modells besteht darin, dass es die meisten Faktoren, die den Hauspreis beeinflussen, wie Anzahl der Badezimmer, Grundstücksgröße, Lage usw., nicht erfasst.\n",
        "\n",
        "Wir können mehr Faktoren erfassen, indem wir einen Baum mit mehr \"Splits\" verwenden. Diese werden \"tiefere\" Bäume genannt. Ein Entscheidungsbaum, der auch die Wohnfläche jedes Hauses berücksichtigt, könnte folgendermaßen aussehen:\n",
        "<div>\n",
        "<img src=\"https://github.com/Kaetherine/BI-Uebungsblaetter/blob/main/LE2/img/Entscheidungsbaum_3.png?raw=1\" width=\"60%\"/>\n",
        "</div>\n",
        "\n",
        "Diese Bäume sagen den Preis eines Hauses voraus, indem Sie den Baumknoten durchgehen und immer den Pfad auswählen, der den Eigenschaften dieses Hauses entspricht. Der prognostizierte Preis für das Haus steht am Ende des Baums. Der untere Punkt, an dem wir eine Vorhersage treffen, wird als **Blatt** bezeichnet.\n",
        "\n",
        "Die Teilungen und Werte an den Blättern werden durch die Daten bestimmt, also ist es an der Zeit, dass Sie sich die Daten ansehen, mit denen Sie arbeiten werden."
      ]
    },
    {
      "cell_type": "markdown",
      "id": "ed382322-72f8-4598-8726-95215668fd66",
      "metadata": {
        "id": "ed382322-72f8-4598-8726-95215668fd66"
      },
      "source": [
        "## Wir verwenden die Python-Bibliothek Pandas, um uns mit den Daten vertraut zu machen (Data Understanding)\n",
        "\n",
        "Der erste Schritt in jedem maschinellen Lernprojekt besteht darin, sich mit den Daten vertraut zu machen. Wir verwenden dafür die Pandas-Bibliothek. Pandas ist das primäre Tool, das Datenwissenschaftler zum Erkunden und Bearbeiten von Daten verwenden. Die meisten Leute kürzen Pandas in ihrem Code mit pd ab. Das machen wir hiermit auch."
      ]
    },
    {
      "cell_type": "code",
      "execution_count": 2,
      "id": "9269c9ac-7b1f-49c3-89ef-545c826b38be",
      "metadata": {
        "id": "9269c9ac-7b1f-49c3-89ef-545c826b38be"
      },
      "outputs": [],
      "source": [
        "import pandas as pd"
      ]
    },
    {
      "cell_type": "markdown",
      "id": "8d684de9-25b2-440d-9087-41c62eb9a109",
      "metadata": {
        "id": "8d684de9-25b2-440d-9087-41c62eb9a109"
      },
      "source": [
        "Der wichtigste Teil der Pandas-Bibliothek ist der DataFrame. Ein DataFrame enthält den Datentyp, den wir uns als Tabelle vorstellen können. Dies ähnelt einem Tabellenblatt in Excel oder einer Tabelle in einer SQL-Datenbank.\n",
        "\n",
        "Pandas verfügt über leistungsstarke Methoden für die meisten Dinge, die wir mit dieser Art von Daten tun möchten.\n",
        "\n",
        "Als Beispiel sehen wir uns die Daten der Immobilienmakler-Eltern zu den Immobilienpreisen in Melbourne, Australien, an. \n",
        "\n",
        "Wir laden und untersuchen die Daten mit den folgenden Befehlen:"
      ]
    },
    {
      "cell_type": "code",
      "execution_count": 3,
      "id": "3de20788-f164-407c-9459-29a57e1482f3",
      "metadata": {
        "colab": {
          "base_uri": "https://localhost:8080/",
          "height": 364
        },
        "id": "3de20788-f164-407c-9459-29a57e1482f3",
        "outputId": "9b647afb-cce5-4cdb-c77a-e6180ca521ab"
      },
      "outputs": [
        {
          "output_type": "execute_result",
          "data": {
            "text/plain": [
              "              Rooms         Price      Distance      Postcode      Bedroom2  \\\n",
              "count  18396.000000  1.839600e+04  18395.000000  18395.000000  14927.000000   \n",
              "mean       2.935040  1.056697e+06     10.389986   3107.140147      2.913043   \n",
              "std        0.958202  6.419217e+05      6.009050     95.000995      0.964641   \n",
              "min        1.000000  8.500000e+04      0.000000   3000.000000      0.000000   \n",
              "25%        2.000000  6.330000e+05      6.300000   3046.000000      2.000000   \n",
              "50%        3.000000  8.800000e+05      9.700000   3085.000000      3.000000   \n",
              "75%        3.000000  1.302000e+06     13.300000   3149.000000      3.000000   \n",
              "max       12.000000  9.000000e+06     48.100000   3978.000000     20.000000   \n",
              "\n",
              "           Bathroom           Car       Landsize  BuildingArea    YearBuilt  \\\n",
              "count  14925.000000  14820.000000   13603.000000   7762.000000  8958.000000   \n",
              "mean       1.538492      1.615520     558.116371    151.220219  1965.879996   \n",
              "std        0.689311      0.955916    3987.326586    519.188596    37.013261   \n",
              "min        0.000000      0.000000       0.000000      0.000000  1196.000000   \n",
              "25%        1.000000      1.000000     176.500000     93.000000  1950.000000   \n",
              "50%        1.000000      2.000000     440.000000    126.000000  1970.000000   \n",
              "75%        2.000000      2.000000     651.000000    174.000000  2000.000000   \n",
              "max        8.000000     10.000000  433014.000000  44515.000000  2018.000000   \n",
              "\n",
              "          Lattitude    Longtitude  Propertycount  \n",
              "count  15064.000000  15064.000000   18395.000000  \n",
              "mean     -37.809849    144.996338    7517.975265  \n",
              "std        0.081152      0.106375    4488.416599  \n",
              "min      -38.182550    144.431810     249.000000  \n",
              "25%      -37.858100    144.931193    4294.000000  \n",
              "50%      -37.803625    145.000920    6567.000000  \n",
              "75%      -37.756270    145.060000   10331.000000  \n",
              "max      -37.408530    145.526350   21650.000000  "
            ],
            "text/html": [
              "\n",
              "  <div id=\"df-a6bf6059-abfa-4126-ae48-6ed8c023de43\">\n",
              "    <div class=\"colab-df-container\">\n",
              "      <div>\n",
              "<style scoped>\n",
              "    .dataframe tbody tr th:only-of-type {\n",
              "        vertical-align: middle;\n",
              "    }\n",
              "\n",
              "    .dataframe tbody tr th {\n",
              "        vertical-align: top;\n",
              "    }\n",
              "\n",
              "    .dataframe thead th {\n",
              "        text-align: right;\n",
              "    }\n",
              "</style>\n",
              "<table border=\"1\" class=\"dataframe\">\n",
              "  <thead>\n",
              "    <tr style=\"text-align: right;\">\n",
              "      <th></th>\n",
              "      <th>Rooms</th>\n",
              "      <th>Price</th>\n",
              "      <th>Distance</th>\n",
              "      <th>Postcode</th>\n",
              "      <th>Bedroom2</th>\n",
              "      <th>Bathroom</th>\n",
              "      <th>Car</th>\n",
              "      <th>Landsize</th>\n",
              "      <th>BuildingArea</th>\n",
              "      <th>YearBuilt</th>\n",
              "      <th>Lattitude</th>\n",
              "      <th>Longtitude</th>\n",
              "      <th>Propertycount</th>\n",
              "    </tr>\n",
              "  </thead>\n",
              "  <tbody>\n",
              "    <tr>\n",
              "      <th>count</th>\n",
              "      <td>18396.000000</td>\n",
              "      <td>1.839600e+04</td>\n",
              "      <td>18395.000000</td>\n",
              "      <td>18395.000000</td>\n",
              "      <td>14927.000000</td>\n",
              "      <td>14925.000000</td>\n",
              "      <td>14820.000000</td>\n",
              "      <td>13603.000000</td>\n",
              "      <td>7762.000000</td>\n",
              "      <td>8958.000000</td>\n",
              "      <td>15064.000000</td>\n",
              "      <td>15064.000000</td>\n",
              "      <td>18395.000000</td>\n",
              "    </tr>\n",
              "    <tr>\n",
              "      <th>mean</th>\n",
              "      <td>2.935040</td>\n",
              "      <td>1.056697e+06</td>\n",
              "      <td>10.389986</td>\n",
              "      <td>3107.140147</td>\n",
              "      <td>2.913043</td>\n",
              "      <td>1.538492</td>\n",
              "      <td>1.615520</td>\n",
              "      <td>558.116371</td>\n",
              "      <td>151.220219</td>\n",
              "      <td>1965.879996</td>\n",
              "      <td>-37.809849</td>\n",
              "      <td>144.996338</td>\n",
              "      <td>7517.975265</td>\n",
              "    </tr>\n",
              "    <tr>\n",
              "      <th>std</th>\n",
              "      <td>0.958202</td>\n",
              "      <td>6.419217e+05</td>\n",
              "      <td>6.009050</td>\n",
              "      <td>95.000995</td>\n",
              "      <td>0.964641</td>\n",
              "      <td>0.689311</td>\n",
              "      <td>0.955916</td>\n",
              "      <td>3987.326586</td>\n",
              "      <td>519.188596</td>\n",
              "      <td>37.013261</td>\n",
              "      <td>0.081152</td>\n",
              "      <td>0.106375</td>\n",
              "      <td>4488.416599</td>\n",
              "    </tr>\n",
              "    <tr>\n",
              "      <th>min</th>\n",
              "      <td>1.000000</td>\n",
              "      <td>8.500000e+04</td>\n",
              "      <td>0.000000</td>\n",
              "      <td>3000.000000</td>\n",
              "      <td>0.000000</td>\n",
              "      <td>0.000000</td>\n",
              "      <td>0.000000</td>\n",
              "      <td>0.000000</td>\n",
              "      <td>0.000000</td>\n",
              "      <td>1196.000000</td>\n",
              "      <td>-38.182550</td>\n",
              "      <td>144.431810</td>\n",
              "      <td>249.000000</td>\n",
              "    </tr>\n",
              "    <tr>\n",
              "      <th>25%</th>\n",
              "      <td>2.000000</td>\n",
              "      <td>6.330000e+05</td>\n",
              "      <td>6.300000</td>\n",
              "      <td>3046.000000</td>\n",
              "      <td>2.000000</td>\n",
              "      <td>1.000000</td>\n",
              "      <td>1.000000</td>\n",
              "      <td>176.500000</td>\n",
              "      <td>93.000000</td>\n",
              "      <td>1950.000000</td>\n",
              "      <td>-37.858100</td>\n",
              "      <td>144.931193</td>\n",
              "      <td>4294.000000</td>\n",
              "    </tr>\n",
              "    <tr>\n",
              "      <th>50%</th>\n",
              "      <td>3.000000</td>\n",
              "      <td>8.800000e+05</td>\n",
              "      <td>9.700000</td>\n",
              "      <td>3085.000000</td>\n",
              "      <td>3.000000</td>\n",
              "      <td>1.000000</td>\n",
              "      <td>2.000000</td>\n",
              "      <td>440.000000</td>\n",
              "      <td>126.000000</td>\n",
              "      <td>1970.000000</td>\n",
              "      <td>-37.803625</td>\n",
              "      <td>145.000920</td>\n",
              "      <td>6567.000000</td>\n",
              "    </tr>\n",
              "    <tr>\n",
              "      <th>75%</th>\n",
              "      <td>3.000000</td>\n",
              "      <td>1.302000e+06</td>\n",
              "      <td>13.300000</td>\n",
              "      <td>3149.000000</td>\n",
              "      <td>3.000000</td>\n",
              "      <td>2.000000</td>\n",
              "      <td>2.000000</td>\n",
              "      <td>651.000000</td>\n",
              "      <td>174.000000</td>\n",
              "      <td>2000.000000</td>\n",
              "      <td>-37.756270</td>\n",
              "      <td>145.060000</td>\n",
              "      <td>10331.000000</td>\n",
              "    </tr>\n",
              "    <tr>\n",
              "      <th>max</th>\n",
              "      <td>12.000000</td>\n",
              "      <td>9.000000e+06</td>\n",
              "      <td>48.100000</td>\n",
              "      <td>3978.000000</td>\n",
              "      <td>20.000000</td>\n",
              "      <td>8.000000</td>\n",
              "      <td>10.000000</td>\n",
              "      <td>433014.000000</td>\n",
              "      <td>44515.000000</td>\n",
              "      <td>2018.000000</td>\n",
              "      <td>-37.408530</td>\n",
              "      <td>145.526350</td>\n",
              "      <td>21650.000000</td>\n",
              "    </tr>\n",
              "  </tbody>\n",
              "</table>\n",
              "</div>\n",
              "      <button class=\"colab-df-convert\" onclick=\"convertToInteractive('df-a6bf6059-abfa-4126-ae48-6ed8c023de43')\"\n",
              "              title=\"Convert this dataframe to an interactive table.\"\n",
              "              style=\"display:none;\">\n",
              "        \n",
              "  <svg xmlns=\"http://www.w3.org/2000/svg\" height=\"24px\"viewBox=\"0 0 24 24\"\n",
              "       width=\"24px\">\n",
              "    <path d=\"M0 0h24v24H0V0z\" fill=\"none\"/>\n",
              "    <path d=\"M18.56 5.44l.94 2.06.94-2.06 2.06-.94-2.06-.94-.94-2.06-.94 2.06-2.06.94zm-11 1L8.5 8.5l.94-2.06 2.06-.94-2.06-.94L8.5 2.5l-.94 2.06-2.06.94zm10 10l.94 2.06.94-2.06 2.06-.94-2.06-.94-.94-2.06-.94 2.06-2.06.94z\"/><path d=\"M17.41 7.96l-1.37-1.37c-.4-.4-.92-.59-1.43-.59-.52 0-1.04.2-1.43.59L10.3 9.45l-7.72 7.72c-.78.78-.78 2.05 0 2.83L4 21.41c.39.39.9.59 1.41.59.51 0 1.02-.2 1.41-.59l7.78-7.78 2.81-2.81c.8-.78.8-2.07 0-2.86zM5.41 20L4 18.59l7.72-7.72 1.47 1.35L5.41 20z\"/>\n",
              "  </svg>\n",
              "      </button>\n",
              "      \n",
              "  <style>\n",
              "    .colab-df-container {\n",
              "      display:flex;\n",
              "      flex-wrap:wrap;\n",
              "      gap: 12px;\n",
              "    }\n",
              "\n",
              "    .colab-df-convert {\n",
              "      background-color: #E8F0FE;\n",
              "      border: none;\n",
              "      border-radius: 50%;\n",
              "      cursor: pointer;\n",
              "      display: none;\n",
              "      fill: #1967D2;\n",
              "      height: 32px;\n",
              "      padding: 0 0 0 0;\n",
              "      width: 32px;\n",
              "    }\n",
              "\n",
              "    .colab-df-convert:hover {\n",
              "      background-color: #E2EBFA;\n",
              "      box-shadow: 0px 1px 2px rgba(60, 64, 67, 0.3), 0px 1px 3px 1px rgba(60, 64, 67, 0.15);\n",
              "      fill: #174EA6;\n",
              "    }\n",
              "\n",
              "    [theme=dark] .colab-df-convert {\n",
              "      background-color: #3B4455;\n",
              "      fill: #D2E3FC;\n",
              "    }\n",
              "\n",
              "    [theme=dark] .colab-df-convert:hover {\n",
              "      background-color: #434B5C;\n",
              "      box-shadow: 0px 1px 3px 1px rgba(0, 0, 0, 0.15);\n",
              "      filter: drop-shadow(0px 1px 2px rgba(0, 0, 0, 0.3));\n",
              "      fill: #FFFFFF;\n",
              "    }\n",
              "  </style>\n",
              "\n",
              "      <script>\n",
              "        const buttonEl =\n",
              "          document.querySelector('#df-a6bf6059-abfa-4126-ae48-6ed8c023de43 button.colab-df-convert');\n",
              "        buttonEl.style.display =\n",
              "          google.colab.kernel.accessAllowed ? 'block' : 'none';\n",
              "\n",
              "        async function convertToInteractive(key) {\n",
              "          const element = document.querySelector('#df-a6bf6059-abfa-4126-ae48-6ed8c023de43');\n",
              "          const dataTable =\n",
              "            await google.colab.kernel.invokeFunction('convertToInteractive',\n",
              "                                                     [key], {});\n",
              "          if (!dataTable) return;\n",
              "\n",
              "          const docLinkHtml = 'Like what you see? Visit the ' +\n",
              "            '<a target=\"_blank\" href=https://colab.research.google.com/notebooks/data_table.ipynb>data table notebook</a>'\n",
              "            + ' to learn more about interactive tables.';\n",
              "          element.innerHTML = '';\n",
              "          dataTable['output_type'] = 'display_data';\n",
              "          await google.colab.output.renderOutput(dataTable, element);\n",
              "          const docLink = document.createElement('div');\n",
              "          docLink.innerHTML = docLinkHtml;\n",
              "          element.appendChild(docLink);\n",
              "        }\n",
              "      </script>\n",
              "    </div>\n",
              "  </div>\n",
              "  "
            ]
          },
          "metadata": {},
          "execution_count": 3
        }
      ],
      "source": [
        "data_path = 'https://raw.githubusercontent.com/Kaetherine/BI-Uebungsblaetter/main/LE2/data/melb_data.csv'\n",
        "# Daten einlesen und in ein DataFrame packen\n",
        "melbourne_data = pd.read_csv(data_path, index_col=0) \n",
        "# Statistische Zusammenfassung der Daten\n",
        "melbourne_data.describe()"
      ]
    },
    {
      "cell_type": "markdown",
      "id": "3a5de7b4-d1e7-4be2-88d6-9aa6f76b5825",
      "metadata": {
        "id": "3a5de7b4-d1e7-4be2-88d6-9aa6f76b5825"
      },
      "source": [
        "### Datenbeschreibung interpretieren\n",
        "\n",
        "Die Ergebnisse zeigen 8 Zahlen für jede Spalte in unserem ursprünglichen Datensatz. Die erste Zahl, **Count** (Anzahl), zeigt an, wie viele Zeilen nicht fehlende Werte enthalten. Fehlende Werte treten aus vielen Gründen auf. Beispielsweise würde die Größe des 2. Schlafzimmers bei der Vermessung eines Hauses mit nur einem Schlafzimmer nicht erfasst. Wir kommen auf das Thema fehlender Daten zurück.\n",
        "\n",
        "Der zweite Wert ist der Mittelwert (**mean**), also der Durchschnitt. Darunter ist **std** die Standardabweichung, die misst, wie stark die Werte um den Durchschnitt verteilt sind.\n",
        "\n",
        "Um die **Min-, 25-%-, 50-%-, 75-%- und Max-Werte** zu interpretieren, stellen wir uns vor, jede Spalte vom niedrigsten zum höchsten Wert zu sortieren. Der erste (kleinste) Wert ist der min. Wenn wir die Liste bis zum ersten Viertel durchgehen, finden wir eine Zahl, die größer als 25 % der Werte und kleiner als 75 % der Werte ist. Das ist der 25%-Wert (ausgesprochen „25. Perzentil“). Das 50. und 75. Perzentil werden analog definiert, wobei das Maximum die größte Zahl ist."
      ]
    },
    {
      "cell_type": "markdown",
      "id": "f2493720-46c6-4bbc-8d38-1ed16e229e14",
      "metadata": {
        "id": "f2493720-46c6-4bbc-8d38-1ed16e229e14"
      },
      "source": [
        "## Auswählen von Daten für die Modellierung (Data Preparation)\n",
        "Der Datensatz hat zu viele Variablen, um sich darüber Gedanken zu machen oder ihn sogar gut auszudrucken. Wie können wir diese überwältigende Datenmenge auf etwas reduzieren, das wir sie verstehen können? \n",
        "\n",
        "Wir beginnen mit der Auswahl einiger Variablen, von denen wir intuitiv ausgehen, dass sie einen relevanten Einfluss auf den Verkaufspreis der Immobilien haben. Um Variablen/Spalten auszuwählen, müssen wir eine Liste aller Spalten im Datensatz sehen. Dies geschieht mit der **columns**-Eigenschaft des DataFrame:"
      ]
    },
    {
      "cell_type": "code",
      "execution_count": 4,
      "id": "af02c0a4-4ee3-4a47-aaf6-59b10e7c0d9f",
      "metadata": {
        "colab": {
          "base_uri": "https://localhost:8080/"
        },
        "id": "af02c0a4-4ee3-4a47-aaf6-59b10e7c0d9f",
        "outputId": "33e68446-7d83-4ba1-fcaf-0526dc57bed4"
      },
      "outputs": [
        {
          "output_type": "execute_result",
          "data": {
            "text/plain": [
              "Index(['Suburb', 'Address', 'Rooms', 'Type', 'Price', 'Method', 'SellerG',\n",
              "       'Date', 'Distance', 'Postcode', 'Bedroom2', 'Bathroom', 'Car',\n",
              "       'Landsize', 'BuildingArea', 'YearBuilt', 'CouncilArea', 'Lattitude',\n",
              "       'Longtitude', 'Regionname', 'Propertycount'],\n",
              "      dtype='object')"
            ]
          },
          "metadata": {},
          "execution_count": 4
        }
      ],
      "source": [
        "melbourne_data.columns"
      ]
    },
    {
      "cell_type": "code",
      "execution_count": 5,
      "id": "f8ebbefb-12ab-4810-bf24-36941be8fc68",
      "metadata": {
        "id": "f8ebbefb-12ab-4810-bf24-36941be8fc68"
      },
      "outputs": [],
      "source": [
        "# Die Melbourne-Daten haben einige fehlende Werte (einige Häuser, für die einige Variablen nicht aufgezeichnet wurden.)\n",
        "# Zum Umgang mit fehlenden Werten könnte man eine eigene Lerneinheit füllen. \n",
        "# Es reicht vorerst, wenn wir Häuser mit fehlenden Werten aus unseren Daten entfernen\n",
        "\n",
        "# dropna löscht fehlende Werte (wir können uns na als \"nicht verfügbar\" / \"not available\" vorstellen)\n",
        "melbourne_data = melbourne_data.dropna(axis=0)"
      ]
    },
    {
      "cell_type": "markdown",
      "id": "39a8c176-168c-47a7-9354-2e28abff6a2e",
      "metadata": {
        "id": "39a8c176-168c-47a7-9354-2e28abff6a2e"
      },
      "source": [
        "### Auswählen des Vorhersageziels\n",
        "\n",
        "Wir können eine Variable mit Punktnotation herausziehen. Diese einzelne Spalte wird in einer Serie (**series**, spezieller Datentyp in Pandas) gespeichert, die im Großen und Ganzen einem DataFrame mit nur einer einzigen Datenspalte ähnelt.\n",
        "\n",
        "Wir verwenden die Punktnotation, um die Spalte auszuwählen, die wir vorhersagen möchten (wird als Vorhersageziel bezeichnet). Per Konvention wird das Vorhersageziel y genannt. Der Code, den wir zum Speichern der Hauspreise in den Melbourne-Daten benötigen, lautet also:"
      ]
    },
    {
      "cell_type": "code",
      "execution_count": 6,
      "id": "ba190d9f-fcf3-4bdf-8924-ff65d2a4f117",
      "metadata": {
        "id": "ba190d9f-fcf3-4bdf-8924-ff65d2a4f117"
      },
      "outputs": [],
      "source": [
        "y = melbourne_data.Price"
      ]
    },
    {
      "cell_type": "markdown",
      "id": "c6666955-e906-4aa7-8888-009172b33637",
      "metadata": {
        "id": "c6666955-e906-4aa7-8888-009172b33637"
      },
      "source": [
        "### Auswahl von \"Features\"\n",
        "\n",
        "Die Spalten, die in unser Modell eingehen (und später verwendet werden, um Vorhersagen zu treffen) werden als \"Features\" bezeichnet. In unserem Fall wären dies die Spalten, die zur Bestimmung des Immobilienpreises verwendet werden. Manchmal verwenden wir alle Spalten außer der Zielvariable (hier der Preis) als Features. In anderen Fällen können wir mit weniger Features zu besseren Ergebnissen kommen. Die Auswahl der richtigen Features und das gezielte Generieren neuer Features wird als **Feature Engineering** bezeichnet. Auch dieses Thema könnte in einer eigenen Lerneinheit vertieft werden - sprengt hier allerdings unseren Rahmen.\n",
        "\n",
        "Wir wählen mehrere Features aus, indem wir eine Liste von Spaltennamen in Klammern bereitstellen. Jedes Element in dieser Liste sollte eine Zeichenfolge (mit Anführungszeichen) sein.\n",
        "\n",
        "Hier ist ein Beispiel:"
      ]
    },
    {
      "cell_type": "code",
      "execution_count": 7,
      "id": "1f00dfb7-a199-4f40-b286-37cfdcf597f0",
      "metadata": {
        "id": "1f00dfb7-a199-4f40-b286-37cfdcf597f0"
      },
      "outputs": [],
      "source": [
        "melbourne_features = ['Rooms', 'Bathroom', 'Landsize', 'Lattitude', 'Longtitude']"
      ]
    },
    {
      "cell_type": "code",
      "execution_count": 8,
      "id": "f083471d-ec24-435b-b5f1-d329ff80006b",
      "metadata": {
        "id": "f083471d-ec24-435b-b5f1-d329ff80006b"
      },
      "outputs": [],
      "source": [
        "#Nach Konvention werden diese Daten als X bezeichnet\n",
        "X = melbourne_data[melbourne_features]"
      ]
    },
    {
      "cell_type": "markdown",
      "id": "d6afe597-2924-48de-8b7e-67e19d51222a",
      "metadata": {
        "id": "d6afe597-2924-48de-8b7e-67e19d51222a"
      },
      "source": [
        "Sehen wir uns kurz die Daten an (mit der Methode \"describe\" und der Methode \"head\")"
      ]
    },
    {
      "cell_type": "code",
      "execution_count": 9,
      "id": "66b2d477-4d33-4cb0-992a-865c29b6a6b5",
      "metadata": {
        "colab": {
          "base_uri": "https://localhost:8080/",
          "height": 300
        },
        "id": "66b2d477-4d33-4cb0-992a-865c29b6a6b5",
        "outputId": "6fc9ad80-4b50-4bcd-fac1-03e1ba3b7dcc"
      },
      "outputs": [
        {
          "output_type": "execute_result",
          "data": {
            "text/plain": [
              "             Rooms     Bathroom      Landsize    Lattitude   Longtitude\n",
              "count  6196.000000  6196.000000   6196.000000  6196.000000  6196.000000\n",
              "mean      2.931407     1.576340    471.006940   -37.807904   144.990201\n",
              "std       0.971079     0.711362    897.449881     0.075850     0.099165\n",
              "min       1.000000     1.000000      0.000000   -38.164920   144.542370\n",
              "25%       2.000000     1.000000    152.000000   -37.855438   144.926198\n",
              "50%       3.000000     1.000000    373.000000   -37.802250   144.995800\n",
              "75%       4.000000     2.000000    628.000000   -37.758200   145.052700\n",
              "max       8.000000     8.000000  37000.000000   -37.457090   145.526350"
            ],
            "text/html": [
              "\n",
              "  <div id=\"df-b326c2bb-d804-41bb-bba9-07df4d4438f2\">\n",
              "    <div class=\"colab-df-container\">\n",
              "      <div>\n",
              "<style scoped>\n",
              "    .dataframe tbody tr th:only-of-type {\n",
              "        vertical-align: middle;\n",
              "    }\n",
              "\n",
              "    .dataframe tbody tr th {\n",
              "        vertical-align: top;\n",
              "    }\n",
              "\n",
              "    .dataframe thead th {\n",
              "        text-align: right;\n",
              "    }\n",
              "</style>\n",
              "<table border=\"1\" class=\"dataframe\">\n",
              "  <thead>\n",
              "    <tr style=\"text-align: right;\">\n",
              "      <th></th>\n",
              "      <th>Rooms</th>\n",
              "      <th>Bathroom</th>\n",
              "      <th>Landsize</th>\n",
              "      <th>Lattitude</th>\n",
              "      <th>Longtitude</th>\n",
              "    </tr>\n",
              "  </thead>\n",
              "  <tbody>\n",
              "    <tr>\n",
              "      <th>count</th>\n",
              "      <td>6196.000000</td>\n",
              "      <td>6196.000000</td>\n",
              "      <td>6196.000000</td>\n",
              "      <td>6196.000000</td>\n",
              "      <td>6196.000000</td>\n",
              "    </tr>\n",
              "    <tr>\n",
              "      <th>mean</th>\n",
              "      <td>2.931407</td>\n",
              "      <td>1.576340</td>\n",
              "      <td>471.006940</td>\n",
              "      <td>-37.807904</td>\n",
              "      <td>144.990201</td>\n",
              "    </tr>\n",
              "    <tr>\n",
              "      <th>std</th>\n",
              "      <td>0.971079</td>\n",
              "      <td>0.711362</td>\n",
              "      <td>897.449881</td>\n",
              "      <td>0.075850</td>\n",
              "      <td>0.099165</td>\n",
              "    </tr>\n",
              "    <tr>\n",
              "      <th>min</th>\n",
              "      <td>1.000000</td>\n",
              "      <td>1.000000</td>\n",
              "      <td>0.000000</td>\n",
              "      <td>-38.164920</td>\n",
              "      <td>144.542370</td>\n",
              "    </tr>\n",
              "    <tr>\n",
              "      <th>25%</th>\n",
              "      <td>2.000000</td>\n",
              "      <td>1.000000</td>\n",
              "      <td>152.000000</td>\n",
              "      <td>-37.855438</td>\n",
              "      <td>144.926198</td>\n",
              "    </tr>\n",
              "    <tr>\n",
              "      <th>50%</th>\n",
              "      <td>3.000000</td>\n",
              "      <td>1.000000</td>\n",
              "      <td>373.000000</td>\n",
              "      <td>-37.802250</td>\n",
              "      <td>144.995800</td>\n",
              "    </tr>\n",
              "    <tr>\n",
              "      <th>75%</th>\n",
              "      <td>4.000000</td>\n",
              "      <td>2.000000</td>\n",
              "      <td>628.000000</td>\n",
              "      <td>-37.758200</td>\n",
              "      <td>145.052700</td>\n",
              "    </tr>\n",
              "    <tr>\n",
              "      <th>max</th>\n",
              "      <td>8.000000</td>\n",
              "      <td>8.000000</td>\n",
              "      <td>37000.000000</td>\n",
              "      <td>-37.457090</td>\n",
              "      <td>145.526350</td>\n",
              "    </tr>\n",
              "  </tbody>\n",
              "</table>\n",
              "</div>\n",
              "      <button class=\"colab-df-convert\" onclick=\"convertToInteractive('df-b326c2bb-d804-41bb-bba9-07df4d4438f2')\"\n",
              "              title=\"Convert this dataframe to an interactive table.\"\n",
              "              style=\"display:none;\">\n",
              "        \n",
              "  <svg xmlns=\"http://www.w3.org/2000/svg\" height=\"24px\"viewBox=\"0 0 24 24\"\n",
              "       width=\"24px\">\n",
              "    <path d=\"M0 0h24v24H0V0z\" fill=\"none\"/>\n",
              "    <path d=\"M18.56 5.44l.94 2.06.94-2.06 2.06-.94-2.06-.94-.94-2.06-.94 2.06-2.06.94zm-11 1L8.5 8.5l.94-2.06 2.06-.94-2.06-.94L8.5 2.5l-.94 2.06-2.06.94zm10 10l.94 2.06.94-2.06 2.06-.94-2.06-.94-.94-2.06-.94 2.06-2.06.94z\"/><path d=\"M17.41 7.96l-1.37-1.37c-.4-.4-.92-.59-1.43-.59-.52 0-1.04.2-1.43.59L10.3 9.45l-7.72 7.72c-.78.78-.78 2.05 0 2.83L4 21.41c.39.39.9.59 1.41.59.51 0 1.02-.2 1.41-.59l7.78-7.78 2.81-2.81c.8-.78.8-2.07 0-2.86zM5.41 20L4 18.59l7.72-7.72 1.47 1.35L5.41 20z\"/>\n",
              "  </svg>\n",
              "      </button>\n",
              "      \n",
              "  <style>\n",
              "    .colab-df-container {\n",
              "      display:flex;\n",
              "      flex-wrap:wrap;\n",
              "      gap: 12px;\n",
              "    }\n",
              "\n",
              "    .colab-df-convert {\n",
              "      background-color: #E8F0FE;\n",
              "      border: none;\n",
              "      border-radius: 50%;\n",
              "      cursor: pointer;\n",
              "      display: none;\n",
              "      fill: #1967D2;\n",
              "      height: 32px;\n",
              "      padding: 0 0 0 0;\n",
              "      width: 32px;\n",
              "    }\n",
              "\n",
              "    .colab-df-convert:hover {\n",
              "      background-color: #E2EBFA;\n",
              "      box-shadow: 0px 1px 2px rgba(60, 64, 67, 0.3), 0px 1px 3px 1px rgba(60, 64, 67, 0.15);\n",
              "      fill: #174EA6;\n",
              "    }\n",
              "\n",
              "    [theme=dark] .colab-df-convert {\n",
              "      background-color: #3B4455;\n",
              "      fill: #D2E3FC;\n",
              "    }\n",
              "\n",
              "    [theme=dark] .colab-df-convert:hover {\n",
              "      background-color: #434B5C;\n",
              "      box-shadow: 0px 1px 3px 1px rgba(0, 0, 0, 0.15);\n",
              "      filter: drop-shadow(0px 1px 2px rgba(0, 0, 0, 0.3));\n",
              "      fill: #FFFFFF;\n",
              "    }\n",
              "  </style>\n",
              "\n",
              "      <script>\n",
              "        const buttonEl =\n",
              "          document.querySelector('#df-b326c2bb-d804-41bb-bba9-07df4d4438f2 button.colab-df-convert');\n",
              "        buttonEl.style.display =\n",
              "          google.colab.kernel.accessAllowed ? 'block' : 'none';\n",
              "\n",
              "        async function convertToInteractive(key) {\n",
              "          const element = document.querySelector('#df-b326c2bb-d804-41bb-bba9-07df4d4438f2');\n",
              "          const dataTable =\n",
              "            await google.colab.kernel.invokeFunction('convertToInteractive',\n",
              "                                                     [key], {});\n",
              "          if (!dataTable) return;\n",
              "\n",
              "          const docLinkHtml = 'Like what you see? Visit the ' +\n",
              "            '<a target=\"_blank\" href=https://colab.research.google.com/notebooks/data_table.ipynb>data table notebook</a>'\n",
              "            + ' to learn more about interactive tables.';\n",
              "          element.innerHTML = '';\n",
              "          dataTable['output_type'] = 'display_data';\n",
              "          await google.colab.output.renderOutput(dataTable, element);\n",
              "          const docLink = document.createElement('div');\n",
              "          docLink.innerHTML = docLinkHtml;\n",
              "          element.appendChild(docLink);\n",
              "        }\n",
              "      </script>\n",
              "    </div>\n",
              "  </div>\n",
              "  "
            ]
          },
          "metadata": {},
          "execution_count": 9
        }
      ],
      "source": [
        "X.describe()"
      ]
    },
    {
      "cell_type": "code",
      "execution_count": 10,
      "id": "2c5cf8db-cbec-4801-a436-9598f6268089",
      "metadata": {
        "colab": {
          "base_uri": "https://localhost:8080/",
          "height": 206
        },
        "id": "2c5cf8db-cbec-4801-a436-9598f6268089",
        "outputId": "7b710ed6-7091-4429-8438-537e8d059022"
      },
      "outputs": [
        {
          "output_type": "execute_result",
          "data": {
            "text/plain": [
              "    Rooms  Bathroom  Landsize  Lattitude  Longtitude\n",
              "2       2       1.0     156.0   -37.8079    144.9934\n",
              "4       3       2.0     134.0   -37.8093    144.9944\n",
              "6       4       1.0     120.0   -37.8072    144.9941\n",
              "11      3       2.0     245.0   -37.8024    144.9993\n",
              "14      2       1.0     256.0   -37.8060    144.9954"
            ],
            "text/html": [
              "\n",
              "  <div id=\"df-fb4508df-22b1-4339-8238-8bec2de90b2a\">\n",
              "    <div class=\"colab-df-container\">\n",
              "      <div>\n",
              "<style scoped>\n",
              "    .dataframe tbody tr th:only-of-type {\n",
              "        vertical-align: middle;\n",
              "    }\n",
              "\n",
              "    .dataframe tbody tr th {\n",
              "        vertical-align: top;\n",
              "    }\n",
              "\n",
              "    .dataframe thead th {\n",
              "        text-align: right;\n",
              "    }\n",
              "</style>\n",
              "<table border=\"1\" class=\"dataframe\">\n",
              "  <thead>\n",
              "    <tr style=\"text-align: right;\">\n",
              "      <th></th>\n",
              "      <th>Rooms</th>\n",
              "      <th>Bathroom</th>\n",
              "      <th>Landsize</th>\n",
              "      <th>Lattitude</th>\n",
              "      <th>Longtitude</th>\n",
              "    </tr>\n",
              "  </thead>\n",
              "  <tbody>\n",
              "    <tr>\n",
              "      <th>2</th>\n",
              "      <td>2</td>\n",
              "      <td>1.0</td>\n",
              "      <td>156.0</td>\n",
              "      <td>-37.8079</td>\n",
              "      <td>144.9934</td>\n",
              "    </tr>\n",
              "    <tr>\n",
              "      <th>4</th>\n",
              "      <td>3</td>\n",
              "      <td>2.0</td>\n",
              "      <td>134.0</td>\n",
              "      <td>-37.8093</td>\n",
              "      <td>144.9944</td>\n",
              "    </tr>\n",
              "    <tr>\n",
              "      <th>6</th>\n",
              "      <td>4</td>\n",
              "      <td>1.0</td>\n",
              "      <td>120.0</td>\n",
              "      <td>-37.8072</td>\n",
              "      <td>144.9941</td>\n",
              "    </tr>\n",
              "    <tr>\n",
              "      <th>11</th>\n",
              "      <td>3</td>\n",
              "      <td>2.0</td>\n",
              "      <td>245.0</td>\n",
              "      <td>-37.8024</td>\n",
              "      <td>144.9993</td>\n",
              "    </tr>\n",
              "    <tr>\n",
              "      <th>14</th>\n",
              "      <td>2</td>\n",
              "      <td>1.0</td>\n",
              "      <td>256.0</td>\n",
              "      <td>-37.8060</td>\n",
              "      <td>144.9954</td>\n",
              "    </tr>\n",
              "  </tbody>\n",
              "</table>\n",
              "</div>\n",
              "      <button class=\"colab-df-convert\" onclick=\"convertToInteractive('df-fb4508df-22b1-4339-8238-8bec2de90b2a')\"\n",
              "              title=\"Convert this dataframe to an interactive table.\"\n",
              "              style=\"display:none;\">\n",
              "        \n",
              "  <svg xmlns=\"http://www.w3.org/2000/svg\" height=\"24px\"viewBox=\"0 0 24 24\"\n",
              "       width=\"24px\">\n",
              "    <path d=\"M0 0h24v24H0V0z\" fill=\"none\"/>\n",
              "    <path d=\"M18.56 5.44l.94 2.06.94-2.06 2.06-.94-2.06-.94-.94-2.06-.94 2.06-2.06.94zm-11 1L8.5 8.5l.94-2.06 2.06-.94-2.06-.94L8.5 2.5l-.94 2.06-2.06.94zm10 10l.94 2.06.94-2.06 2.06-.94-2.06-.94-.94-2.06-.94 2.06-2.06.94z\"/><path d=\"M17.41 7.96l-1.37-1.37c-.4-.4-.92-.59-1.43-.59-.52 0-1.04.2-1.43.59L10.3 9.45l-7.72 7.72c-.78.78-.78 2.05 0 2.83L4 21.41c.39.39.9.59 1.41.59.51 0 1.02-.2 1.41-.59l7.78-7.78 2.81-2.81c.8-.78.8-2.07 0-2.86zM5.41 20L4 18.59l7.72-7.72 1.47 1.35L5.41 20z\"/>\n",
              "  </svg>\n",
              "      </button>\n",
              "      \n",
              "  <style>\n",
              "    .colab-df-container {\n",
              "      display:flex;\n",
              "      flex-wrap:wrap;\n",
              "      gap: 12px;\n",
              "    }\n",
              "\n",
              "    .colab-df-convert {\n",
              "      background-color: #E8F0FE;\n",
              "      border: none;\n",
              "      border-radius: 50%;\n",
              "      cursor: pointer;\n",
              "      display: none;\n",
              "      fill: #1967D2;\n",
              "      height: 32px;\n",
              "      padding: 0 0 0 0;\n",
              "      width: 32px;\n",
              "    }\n",
              "\n",
              "    .colab-df-convert:hover {\n",
              "      background-color: #E2EBFA;\n",
              "      box-shadow: 0px 1px 2px rgba(60, 64, 67, 0.3), 0px 1px 3px 1px rgba(60, 64, 67, 0.15);\n",
              "      fill: #174EA6;\n",
              "    }\n",
              "\n",
              "    [theme=dark] .colab-df-convert {\n",
              "      background-color: #3B4455;\n",
              "      fill: #D2E3FC;\n",
              "    }\n",
              "\n",
              "    [theme=dark] .colab-df-convert:hover {\n",
              "      background-color: #434B5C;\n",
              "      box-shadow: 0px 1px 3px 1px rgba(0, 0, 0, 0.15);\n",
              "      filter: drop-shadow(0px 1px 2px rgba(0, 0, 0, 0.3));\n",
              "      fill: #FFFFFF;\n",
              "    }\n",
              "  </style>\n",
              "\n",
              "      <script>\n",
              "        const buttonEl =\n",
              "          document.querySelector('#df-fb4508df-22b1-4339-8238-8bec2de90b2a button.colab-df-convert');\n",
              "        buttonEl.style.display =\n",
              "          google.colab.kernel.accessAllowed ? 'block' : 'none';\n",
              "\n",
              "        async function convertToInteractive(key) {\n",
              "          const element = document.querySelector('#df-fb4508df-22b1-4339-8238-8bec2de90b2a');\n",
              "          const dataTable =\n",
              "            await google.colab.kernel.invokeFunction('convertToInteractive',\n",
              "                                                     [key], {});\n",
              "          if (!dataTable) return;\n",
              "\n",
              "          const docLinkHtml = 'Like what you see? Visit the ' +\n",
              "            '<a target=\"_blank\" href=https://colab.research.google.com/notebooks/data_table.ipynb>data table notebook</a>'\n",
              "            + ' to learn more about interactive tables.';\n",
              "          element.innerHTML = '';\n",
              "          dataTable['output_type'] = 'display_data';\n",
              "          await google.colab.output.renderOutput(dataTable, element);\n",
              "          const docLink = document.createElement('div');\n",
              "          docLink.innerHTML = docLinkHtml;\n",
              "          element.appendChild(docLink);\n",
              "        }\n",
              "      </script>\n",
              "    </div>\n",
              "  </div>\n",
              "  "
            ]
          },
          "metadata": {},
          "execution_count": 10
        }
      ],
      "source": [
        "X.head()"
      ]
    },
    {
      "cell_type": "markdown",
      "id": "cf2f77b7-3a49-4922-9f86-dff539729759",
      "metadata": {
        "id": "cf2f77b7-3a49-4922-9f86-dff539729759"
      },
      "source": [
        "### Explorative Datenanalyse (EDA)"
      ]
    },
    {
      "cell_type": "markdown",
      "id": "f4462844-44d0-460a-a187-8e6f99aa2b35",
      "metadata": {
        "id": "f4462844-44d0-460a-a187-8e6f99aa2b35"
      },
      "source": [
        "Die visuelle Überprüfung unserer Daten mit diesen Befehlen ist ein wichtiger Teil der Arbeit eines Datenwissenschaftlers. Zusätzlich sollten wir mit Hilfe der Datenvisualisierung uns ein besseres Bild der Daten machen. Wir werden häufig Überraschungen im Datensatz finden, die eine weitere Untersuchung verdienen."
      ]
    },
    {
      "cell_type": "code",
      "execution_count": 11,
      "id": "35b2d681-0178-40b8-9562-c9b0dbb86591",
      "metadata": {
        "id": "35b2d681-0178-40b8-9562-c9b0dbb86591"
      },
      "outputs": [],
      "source": [
        "# Für die Visualisierung nutzen wir die beiden sehr beliebten Bibliothekn matplotlib und seaborn\n",
        "import matplotlib as mpl\n",
        "import matplotlib.pyplot as plt\n",
        "import seaborn as sns\n",
        "import warnings\n",
        "warnings.filterwarnings(\"ignore\")\n",
        "\n",
        "X_and_y = X.drop(columns=[\"Longtitude\", \"Lattitude\"])\n",
        "X_and_y[\"Price\"] = y"
      ]
    },
    {
      "cell_type": "code",
      "execution_count": 12,
      "id": "4599dde1-d8b3-4f60-be84-4d0b3bd004c7",
      "metadata": {
        "colab": {
          "base_uri": "https://localhost:8080/",
          "height": 868
        },
        "id": "4599dde1-d8b3-4f60-be84-4d0b3bd004c7",
        "outputId": "972cd7bb-7d41-40f7-b5be-42af610a48d2"
      },
      "outputs": [
        {
          "output_type": "display_data",
          "data": {
            "text/plain": [
              "<Figure size 864x864 with 20 Axes>"
            ],
            "image/png": "[encoded data removed]"
          },
          "metadata": {
            "needs_background": "light"
          }
        }
      ],
      "source": [
        "# Hier sehen wir, wie sich die einzelnen Variablen zueinander verhalten\n",
        "sns.pairplot(data=X_and_y, kind='scatter', diag_kws={'bins':20, 'color':'darkblue','edgecolor':'black'},\n",
        "            plot_kws={'marker':'.','color':'darkred'}, size=3);"
      ]
    },
    {
      "cell_type": "code",
      "execution_count": 13,
      "id": "d909231a-97ab-4c70-8245-d8db3c5c1790",
      "metadata": {
        "colab": {
          "base_uri": "https://localhost:8080/",
          "height": 442
        },
        "id": "d909231a-97ab-4c70-8245-d8db3c5c1790",
        "outputId": "6b4e2da2-596d-4e53-ca2f-7de4c3af30c4"
      },
      "outputs": [
        {
          "output_type": "display_data",
          "data": {
            "text/plain": [
              "<Figure size 864x504 with 2 Axes>"
            ],
            "image/png": "[encoded data removed]"
          },
          "metadata": {
            "needs_background": "light"
          }
        }
      ],
      "source": [
        "# Anschließend erstellen wir eine Korrelationsmatrix \n",
        "fig, ax= plt.subplots(figsize=(12,7))\n",
        "sns.heatmap(X_and_y.corr(), annot=True, cmap='viridis',\n",
        "            fmt='0.3f',ax=ax)\n",
        "ax.set_title('Korrelationsmatrix', fontsize=10);\n"
      ]
    },
    {
      "cell_type": "markdown",
      "id": "6368dece-bdc5-45b9-8a17-dd69f804685f",
      "metadata": {
        "id": "6368dece-bdc5-45b9-8a17-dd69f804685f"
      },
      "source": [
        "Hier sehen wir, wie die einzelnen Features inklusive der Zielvariable paarweise mit einander in Beziehung stehen (Korrelation). Die Zahl in der jeweiligen Zelle gibt den Grad der Korrelation an. Wenn sie nah bei 1 liegt handelt es sich um eine starke, wenn sie nah bei 0 ist um eine schwache, positive Korrelation (wenn ein die eine Variable zunimmt, nimmt die andere um das 0,xx fache auch zu). Negative Werte würden einen gegenläufigen Zusammenhang darstellen (wenn ein Wert zunimmt, nimmt der andere ab).\n",
        "\n",
        "Es lässt sich feststellen, dass die Anzahl der Räume und die Anzahl der Bäder jeweils mit dem Preis korrelieren und der Korrelationskoeffizient bei 0,534 (Preis/Raumanzahl) und 0,504 (Preis/Bäderanzahl) liegt. Das sind beides keine starken Zusammenhänge."
      ]
    },
    {
      "cell_type": "markdown",
      "id": "009ddf4e-cb0b-4c88-bea4-d62e0397c80f",
      "metadata": {
        "id": "009ddf4e-cb0b-4c88-bea4-d62e0397c80f"
      },
      "source": [
        "---\n",
        "# Aufbau des Modells (Modeling)\n",
        "\n",
        "Wir verwenden die Bibliothek **scikit-learn**, um unsere Modelle zu erstellen. Beim Programmieren wird diese Bibliothek als **sklearn** geschrieben, wie wir im folgenden Code sehen werden. Scikit-learn ist mit Abstand die beliebteste Bibliothek zum Modellieren der Datentypen, die typischerweise in DataFrames gespeichert werden.\n",
        "\n",
        "Die Schritte zum Erstellen und Verwenden eines Modells sind:\n",
        "* **Definieren:** Welche Daten haben wir und welche Arten von Modellen eignen sich? Welche Parameter des Modells müssen wir optimieren? \n",
        "* **Lernen/Anpassen:** Automatische Anpassung der Modellparameter. Dies ist das Herzstück des Modellierens.\n",
        "* **Prognose:** So wie es sich anhört, also in unserem Fall Häuserpreise schätzen.\n",
        "* **Bewerten**: Bestimmen, wie gut/genau die Vorhersagen unseres Modells sind.\n",
        "\n",
        "Hier ist ein Beispiel für die Definition eines Entscheidungsbaummodells mit scikit-learn:"
      ]
    },
    {
      "cell_type": "code",
      "execution_count": 14,
      "id": "b85a8a7e-667d-4c0f-8f54-2fd89544247d",
      "metadata": {
        "colab": {
          "base_uri": "https://localhost:8080/",
          "height": 74
        },
        "id": "b85a8a7e-667d-4c0f-8f54-2fd89544247d",
        "outputId": "64613668-f23e-453c-c1cb-e9d376051d80"
      },
      "outputs": [
        {
          "output_type": "execute_result",
          "data": {
            "text/plain": [
              "DecisionTreeRegressor(random_state=1)"
            ],
            "text/html": [
              "<style>#sk-container-id-1 {color: black;background-color: white;}#sk-container-id-1 pre{padding: 0;}#sk-container-id-1 div.sk-toggleable {background-color: white;}#sk-container-id-1 label.sk-toggleable__label {cursor: pointer;display: block;width: 100%;margin-bottom: 0;padding: 0.3em;box-sizing: border-box;text-align: center;}#sk-container-id-1 label.sk-toggleable__label-arrow:before {content: \"▸\";float: left;margin-right: 0.25em;color: #696969;}#sk-container-id-1 label.sk-toggleable__label-arrow:hover:before {color: black;}#sk-container-id-1 div.sk-estimator:hover label.sk-toggleable__label-arrow:before {color: black;}#sk-container-id-1 div.sk-toggleable__content {max-height: 0;max-width: 0;overflow: hidden;text-align: left;background-color: #f0f8ff;}#sk-container-id-1 div.sk-toggleable__content pre {margin: 0.2em;color: black;border-radius: 0.25em;background-color: #f0f8ff;}#sk-container-id-1 input.sk-toggleable__control:checked~div.sk-toggleable__content {max-height: 200px;max-width: 100%;overflow: auto;}#sk-container-id-1 input.sk-toggleable__control:checked~label.sk-toggleable__label-arrow:before {content: \"▾\";}#sk-container-id-1 div.sk-estimator input.sk-toggleable__control:checked~label.sk-toggleable__label {background-color: #d4ebff;}#sk-container-id-1 div.sk-label input.sk-toggleable__control:checked~label.sk-toggleable__label {background-color: #d4ebff;}#sk-container-id-1 input.sk-hidden--visually {border: 0;clip: rect(1px 1px 1px 1px);clip: rect(1px, 1px, 1px, 1px);height: 1px;margin: -1px;overflow: hidden;padding: 0;position: absolute;width: 1px;}#sk-container-id-1 div.sk-estimator {font-family: monospace;background-color: #f0f8ff;border: 1px dotted black;border-radius: 0.25em;box-sizing: border-box;margin-bottom: 0.5em;}#sk-container-id-1 div.sk-estimator:hover {background-color: #d4ebff;}#sk-container-id-1 div.sk-parallel-item::after {content: \"\";width: 100%;border-bottom: 1px solid gray;flex-grow: 1;}#sk-container-id-1 div.sk-label:hover label.sk-toggleable__label {background-color: #d4ebff;}#sk-container-id-1 div.sk-serial::before {content: \"\";position: absolute;border-left: 1px solid gray;box-sizing: border-box;top: 0;bottom: 0;left: 50%;z-index: 0;}#sk-container-id-1 div.sk-serial {display: flex;flex-direction: column;align-items: center;background-color: white;padding-right: 0.2em;padding-left: 0.2em;position: relative;}#sk-container-id-1 div.sk-item {position: relative;z-index: 1;}#sk-container-id-1 div.sk-parallel {display: flex;align-items: stretch;justify-content: center;background-color: white;position: relative;}#sk-container-id-1 div.sk-item::before, #sk-container-id-1 div.sk-parallel-item::before {content: \"\";position: absolute;border-left: 1px solid gray;box-sizing: border-box;top: 0;bottom: 0;left: 50%;z-index: -1;}#sk-container-id-1 div.sk-parallel-item {display: flex;flex-direction: column;z-index: 1;position: relative;background-color: white;}#sk-container-id-1 div.sk-parallel-item:first-child::after {align-self: flex-end;width: 50%;}#sk-container-id-1 div.sk-parallel-item:last-child::after {align-self: flex-start;width: 50%;}#sk-container-id-1 div.sk-parallel-item:only-child::after {width: 0;}#sk-container-id-1 div.sk-dashed-wrapped {border: 1px dashed gray;margin: 0 0.4em 0.5em 0.4em;box-sizing: border-box;padding-bottom: 0.4em;background-color: white;}#sk-container-id-1 div.sk-label label {font-family: monospace;font-weight: bold;display: inline-block;line-height: 1.2em;}#sk-container-id-1 div.sk-label-container {text-align: center;}#sk-container-id-1 div.sk-container {/* jupyter's `normalize.less` sets `[hidden] { display: none; }` but bootstrap.min.css set `[hidden] { display: none !important; }` so we also need the `!important` here to be able to override the default hidden behavior on the sphinx rendered scikit-learn.org. See: https://github.com/scikit-learn/scikit-learn/issues/21755 */display: inline-block !important;position: relative;}#sk-container-id-1 div.sk-text-repr-fallback {display: none;}</style><div id=\"sk-container-id-1\" class=\"sk-top-container\"><div class=\"sk-text-repr-fallback\"><pre>DecisionTreeRegressor(random_state=1)</pre><b>In a Jupyter environment, please rerun this cell to show the HTML representation or trust the notebook. <br />On GitHub, the HTML representation is unable to render, please try loading this page with nbviewer.org.</b></div><div class=\"sk-container\" hidden><div class=\"sk-item\"><div class=\"sk-estimator sk-toggleable\"><input class=\"sk-toggleable__control sk-hidden--visually\" id=\"sk-estimator-id-1\" type=\"checkbox\" checked><label for=\"sk-estimator-id-1\" class=\"sk-toggleable__label sk-toggleable__label-arrow\">DecisionTreeRegressor</label><div class=\"sk-toggleable__content\"><pre>DecisionTreeRegressor(random_state=1)</pre></div></div></div></div></div>"
            ]
          },
          "metadata": {},
          "execution_count": 14
        }
      ],
      "source": [
        "from sklearn.tree import DecisionTreeRegressor\n",
        "\n",
        "# Modell definieren. Wir geben eine Zahl für random_state an, um bei jeder Ausführung dieselben Ergebnisse sicherzustellen\n",
        "melbourne_model = DecisionTreeRegressor(random_state=1)\n",
        "\n",
        "# Lernen (Model fitting)\n",
        "melbourne_model.fit(X, y)"
      ]
    },
    {
      "cell_type": "markdown",
      "id": "b69fd2c1-b1b3-4a9b-a124-3b80ec0342e9",
      "metadata": {
        "id": "b69fd2c1-b1b3-4a9b-a124-3b80ec0342e9"
      },
      "source": [
        "Viele maschinelle Lernmodelle ermöglichen eine gewisse Zufälligkeit beim Modelltraining. Die Angabe einer Zahl für random_state stellt sicher, dass wir bei jedem Durchlauf dieselben Ergebnisse erhalten. Dies wird als gute Praxis angesehen. Wir verwenden eine beliebige Zahl, und die Modellqualität hängt nicht wesentlich davon ab, welchen Wert wir genau wählen.\n",
        "\n",
        "Wir haben jetzt ein trainiertes Modell, das wir verwenden können, um Vorhersagen zu treffen.\n",
        "\n",
        "In der Praxis möchten wir ja Vorhersagen für neue Häuser treffen, die auf den Markt kommen, also für Häuser, für die wir noch keine Preise haben. Hier machen wir nun Vorhersagen für die ersten Zeilen der Trainingsdaten, um zu sehen, wie die Vorhersagefunktion funktioniert."
      ]
    },
    {
      "cell_type": "code",
      "execution_count": 15,
      "id": "875a052d-3d5b-4339-8dd7-d742fe8bf25a",
      "metadata": {
        "colab": {
          "base_uri": "https://localhost:8080/"
        },
        "id": "875a052d-3d5b-4339-8dd7-d742fe8bf25a",
        "outputId": "194c70d2-34dd-460c-8524-91073ec298ad"
      },
      "outputs": [
        {
          "output_type": "stream",
          "name": "stdout",
          "text": [
            "Vorhersagen für die folgenden 5 Häuser treffen:\n",
            "    Rooms  Bathroom  Landsize  Lattitude  Longtitude\n",
            "2       2       1.0     156.0   -37.8079    144.9934\n",
            "4       3       2.0     134.0   -37.8093    144.9944\n",
            "6       4       1.0     120.0   -37.8072    144.9941\n",
            "11      3       2.0     245.0   -37.8024    144.9993\n",
            "14      2       1.0     256.0   -37.8060    144.9954\n",
            "Die Vorhersagen sind:\n",
            "[1035000. 1465000. 1600000. 1876000. 1636000.]\n"
          ]
        }
      ],
      "source": [
        "print(\"Vorhersagen für die folgenden 5 Häuser treffen:\")\n",
        "print(X.head())\n",
        "print(\"Die Vorhersagen sind:\")\n",
        "print(melbourne_model.predict(X.head()))"
      ]
    },
    {
      "cell_type": "markdown",
      "id": "790ecace-9d18-450a-b6f5-f3fddea86bdf",
      "metadata": {
        "id": "790ecace-9d18-450a-b6f5-f3fddea86bdf"
      },
      "source": [
        "## Modellvalidierung (Evaluation)\n",
        "Wir haben nun ein Modell gebaut. Aber wie gut ist es? Nun lernen wir, wie wir die Modellvalidierung verwenden, um die Qualität unseres Modells zu messen. Die Messung der Modellqualität ist der Schlüssel zur iterativen Verbesserung unserer Modelle.\n",
        "\n",
        "Wir sollten als Datenwissenschaftler jedes Modell, das wir jemals bauen werden, evaluieren. In den meisten (jedoch nicht allen) Anwendungen ist das relevante Maß für die Modellqualität die Vorhersagegenauigkeit. Mit anderen Worten, sollten die Vorhersagen des Modells nahe an dem liegen, was tatsächlich passiert / passieren wird.\n",
        "\n",
        "Viele (noch unerfahrende) Datenwissenschaftler machen einen großen Fehler bei der Messung der Vorhersagegenauigkeit. Sie treffen Vorhersagen mit ihren *Trainingsdaten* und vergleichen diese Vorhersagen mit den Zielwerten in den *Trainingsdaten*. Wir werden gleich das Problem mit diesem Ansatz und dessen Lösung sehen, aber lassen wir uns zuerst darüber nachdenken, wie wir dies tun würden.\n",
        "\n",
        "Wir müssten zunächst die Modellqualität auf verständliche Weise zusammenfassen. Wenn wir die prognostizierten und tatsächlichen Hauswerte für 10.000 Häuser vergleichen, werden wir wahrscheinlich eine Mischung aus guten und schlechten Vorhersagen finden. Eine Liste mit 10.000 prognostizierten und tatsächlichen Werten durchzusehen, wäre sinnlos. Wir müssen dies in einer einzigen Metrik zusammenfassen.\n",
        "\n",
        "Es gibt viele Metriken zur Zusammenfassung der Modellqualität, aber wir beginnen mit einer namens **Mean Absolute Error** (auch **MAE** genannt). Lassen wir uns diese Metrik aufschlüsseln, beginnend mit dem letzten Wort, \"Error\" (Fehler).\n",
        "\n",
        "Der Vorhersagefehler für jedes Haus ist: <br>\n",
        "```\n",
        "Vorhersagefehler = tatsächlicher Wert - vorhergesagter Wert\n",
        "```\n",
        " \n",
        "Wenn also ein Haus 150.000 € kostet und wir vorausgesagt haben, dass es 100.000 € kosten würde, beträgt der Fehler 50.000 €.\n",
        "\n",
        "Bei der MAE-Metrik nehmen wir den absoluten Wert jedes Fehlers. Dadurch wird jeder Fehler in eine positive Zahl umgewandelt. Wir nehmen dann den Durchschnitt dieser absoluten Fehler. Daran messen wir die Modellqualität. Im Klartext kann man sagen:\n",
        "\n",
        "> Im Durchschnitt weichen unsere Vorhersagen um etwa X ab. (X ist dabei eine absolute Zahl und keine Prozentzahl)\n",
        "\n",
        "Um MAE zu berechnen, können wir auf die entsprechende Funktion in der sklearn Bibliothek zurückgreifen."
      ]
    },
    {
      "cell_type": "code",
      "execution_count": 16,
      "id": "842d949d-7365-404c-9d3f-24df541d7c88",
      "metadata": {
        "colab": {
          "base_uri": "https://localhost:8080/"
        },
        "id": "842d949d-7365-404c-9d3f-24df541d7c88",
        "outputId": "9d0e36d8-6d11-4a71-8d35-358f0cb481b6"
      },
      "outputs": [
        {
          "output_type": "execute_result",
          "data": {
            "text/plain": [
              "1115.7467183128902"
            ]
          },
          "metadata": {},
          "execution_count": 16
        }
      ],
      "source": [
        "from sklearn.metrics import mean_absolute_error\n",
        "\n",
        "predicted_home_prices = melbourne_model.predict(X)\n",
        "mean_absolute_error(y, predicted_home_prices)"
      ]
    },
    {
      "cell_type": "markdown",
      "id": "010e139f-c543-4805-ade2-74a07831a0d5",
      "metadata": {
        "id": "010e139f-c543-4805-ade2-74a07831a0d5"
      },
      "source": [
        "### Das Problem mit „In-Sample“-Scores\n",
        "\n",
        "Das Maß, das wir gerade berechnet haben, kann als \"In-Sample\"-Score bezeichnet werden. Wir haben eine einzelne „Stichprobe“ von Häusern sowohl für den Bau des Modells als auch für dessen Bewertung verwendet. Das ist nicht gut, weil:\n",
        "\n",
        "Stellen wir uns vor, dass auf dem großen Immobilienmarkt die Türfarbe nichts mit dem Hauspreis zu tun hat.\n",
        "\n",
        "In der Datenstichprobe, die wir zum Erstellen des Modells verwendet haben, waren jedoch alle Häuser mit grünen Türen sehr teuer. Die Aufgabe des Modells ist es, Muster zu finden, die Hauspreise vorhersagen, also wird es dieses Muster erkennen und immer hohe Preise für Häuser mit grünen Türen vorhersagen.\n",
        "\n",
        "Da dieses Muster aus den Trainingsdaten abgeleitet wurde, erscheint das Modell in den Trainingsdaten genau.\n",
        "\n",
        "Wenn dieses Muster jedoch nicht gilt, wenn das Modell neue Daten sieht, wäre das Modell in der Praxis sehr ungenau.\n",
        "\n",
        "Da sich der praktische Wert von Modellen aus Vorhersagen auf neuen Daten ergibt, messen wir die Leistung anhand von Daten, die nicht zum Erstellen des Modells verwendet wurden. Der einfachste Weg, dies zu tun, besteht darin, einige Daten aus dem Modellerstellungsprozess auszuschließen und diese dann zu verwenden, um die Genauigkeit des Modells anhand von Daten zu testen, die es zuvor nicht gesehen hat. Diese Daten werden **Testdaten** (test set) genannt.\n",
        "\n",
        "Die scikit-learn-Bibliothek hat eine Funktion „train_test_split“, um die Daten in zwei Teile aufzuteilen. Wir verwenden einige dieser Daten als Trainingsdaten, um das Modell anzupassen, und wir verwenden die anderen Daten als Testdaten, um \"mean_absolute_error\" zu berechnen.\n",
        "\n",
        "Hier ist der Code:"
      ]
    },
    {
      "cell_type": "code",
      "execution_count": 17,
      "id": "5a2e7266-1b62-43f7-b815-cbc594d05375",
      "metadata": {
        "colab": {
          "base_uri": "https://localhost:8080/"
        },
        "id": "5a2e7266-1b62-43f7-b815-cbc594d05375",
        "outputId": "25240e7b-2813-4563-b865-4f202be9ae4c"
      },
      "outputs": [
        {
          "output_type": "stream",
          "name": "stdout",
          "text": [
            "276111.95029051\n"
          ]
        }
      ],
      "source": [
        "from sklearn.model_selection import train_test_split\n",
        "\n",
        "# Daten in Trainings- und Testsdaten aufteilen, sowohl für Features als auch für die Zielvariable \"Preis\"\n",
        "# Die Aufteilung basiert auf einem Zufallszahlengenerator. Die Übergabe eines numerischen Werts an\n",
        "# das Argument random_state garantiert, dass wir jedes Mal die gleiche Aufteilung erhalten\n",
        "train_X, test_X, train_y, test_y = train_test_split(X, y, random_state = 0)\n",
        "# Modelldefinition\n",
        "melbourne_model = DecisionTreeRegressor()\n",
        "# Modelltraining\n",
        "melbourne_model.fit(train_X, train_y)\n",
        "\n",
        "# Prognose auf nicht zum Training verwendete Testdaten\n",
        "predictions = melbourne_model.predict(test_X)\n",
        "# MAE Berechnung auf Basis der prognostizierten Daten und der Realität (die Preise aus dem Testdatensatz)\n",
        "print(mean_absolute_error(test_y, predictions))"
      ]
    },
    {
      "cell_type": "markdown",
      "id": "459ed643-cbd3-48ad-8b50-aba1f66e8fe8",
      "metadata": {
        "id": "459ed643-cbd3-48ad-8b50-aba1f66e8fe8"
      },
      "source": [
        "Interessant! Der mittlere absolute Fehler (Mean Absolute Error, MAE) für die In-Sample-Daten betrug etwa 1000 Euro. Out-of-Sample sind es mehr als 270.000 Euro.\n",
        "\n",
        "Dies ist der Unterschied zwischen einem Modell, das fast genau richtig ist, und einem Modell, das für die meisten praktischen Zwecke unbrauchbar ist. Als Referenzwert sei zu erwähnen, dass der durchschnittliche Hauswert in den Testdaten 1,1 Millionen Euro beträgt. Der Vorhersagefehler auf Basis neuer Daten beträgt also etwa ein Viertel des durchschnittlichen Hauswerts."
      ]
    },
    {
      "cell_type": "markdown",
      "id": "d5f52f28-4a33-4c5b-b801-455f89834a8b",
      "metadata": {
        "id": "d5f52f28-4a33-4c5b-b801-455f89834a8b"
      },
      "source": [
        "# Experimentieren mit verschiedenen Modellen\n",
        "\n",
        "Wir wollen nun ein Modell finden, welches bessere Vorhersagen für neue Häuser trifft, als unser bisheriges Modell. Wir wollen also mit jedem weiteren Modell den MAE ein Stück reduzieren. Dazu müssen wir im ersten Schritt die Konzepte Underfitting und Overfitting verstehen und in der Lage sein, diese Ideen anzuwenden, um unser Modell zu optimieren.\n",
        "\n",
        "Wir können in der [Dokumentation](http://scikit-learn.org/stable/modules/generated/sklearn.tree.DecisionTreeRegressor.html) von scikit-learn sehen, dass das Entscheidungsbaummodell viele Optionen hat. Eine dieser Optionen (in diesem Kontext auch \"Hyperparameter\" genannt) bestimmen zum Beispiel die Baumtiefe. Erinnern wir uns an das Bild von oben, wo dargestellt wurde, dass die Tiefe eines Baums ein Maß dafür ist, wie viele Entscheidungen/Abzweigungen er macht, bevor er zu einer Vorhersage kommt. Oben wurde ein relativ flacher Baum dargestellt. \n",
        "\n",
        "In der Praxis ist es nicht ungewöhnlich, dass ein Baum 10 Abzweigungen zwischen der obersten Ebene (alle Häuser) und einem Blatt hat. Wenn der Baum tiefer wird, wird der Datensatz in Blätter mit weniger Häusern aufgeteilt. Wenn ein Baum nur eine Teilung hatte, teilt er die Daten in 2 Gruppen. Wenn jede Gruppe wieder aufgeteilt wird, würden wir 4 Häusergruppen erhalten. Wenn wir diese erneut aufteilen, werden 8 Gruppen erstellt. Wenn wir die Anzahl der Gruppen verdoppeln, indem wir auf jeder Ebene weitere Unterteilungen hinzufügen, haben wir \\\\(2^{10}\\\\) Gruppen von Häusern, wenn wir die 10. Ebene erreichen. Das sind 1024 Blätter.\n",
        "\n",
        "Wenn wir die Häuser auf viele Blätter aufteilen, haben wir auch weniger Häuser die zu jedem Blatt passen. Blätter mit sehr wenigen Häusern treffen Vorhersagen, die ziemlich nahe an den tatsächlichen Werten dieser Häuser liegen, aber sie können sehr unzuverlässige Vorhersagen für neue Daten machen (da jede Vorhersage nur auf einigen wenigen Häusern basiert).\n",
        "\n",
        "Dies ist ein Phänomen namens **Overfitting**, bei dem ein Modell fast perfekt mit den Trainingsdaten übereinstimmt, aber bei der Validierung mit anderen neuen Daten schlecht abschneidet. Auf der anderen Seite, wenn wir unseren Baum sehr flach machen, teilt er die Häuser nicht in sehr unterschiedliche Gruppen.\n",
        "\n",
        "Im Extremfall, wenn ein Baum Häuser in nur 2 oder 4 Kategorien teilt, hat jede Gruppe immer noch eine große Vielfalt an Häusern. Die resultierenden Vorhersagen können für die meisten Häuser weit entfernt sein, sogar in den Trainingsdaten (und es wird aus dem gleichen Grund auch bei der Validierung schlecht sein). Wenn ein Modell wichtige Unterschiede und Muster in den Daten nicht erfassen kann und daher selbst in Trainingsdaten schlecht abschneidet, spricht man von **Underfitting**.\n",
        "\n",
        "Da uns die Genauigkeit neuer Daten wichtig ist, die wir anhand unserer Testdaten schätzen, möchten wir den optimalen Punkt zwischen Underfitting und Overfitting finden. Optisch wollen wir den Tiefpunkt der (roten) Validierungskurve finden:\n",
        "\n",
        "<div>\n",
        "<img src=\"https://github.com/Kaetherine/BI-Uebungsblaetter/blob/main/LE2/img/OverUnderfitting.png?raw=1\" width=\"50%\"/>\n",
        "</div>\n",
        "\n",
        "### Beispiel\n",
        "Es gibt einige Optionen (Hyperparameter) zum Steuern der Baumtiefe, und viele ermöglichen es, dass einige Pfade durch den Baum eine größere Tiefe haben als andere Routen (der Baum also nicht ausbalanciert sein muss). Das Argument *max_leaf_nodes* bietet eine gute Möglichkeit, Overfitting vs. Underfitting zu kontrollieren. Je mehr Blätter wir dem Modell erlauben zu machen, desto mehr bewegen wir uns vom Underfitting-Bereich in der obigen Grafik zum Overfitting-Bereich."
      ]
    },
    {
      "cell_type": "code",
      "execution_count": 18,
      "id": "fe29a70b-4f48-464a-b1b7-31108cc9ad79",
      "metadata": {
        "id": "fe29a70b-4f48-464a-b1b7-31108cc9ad79"
      },
      "outputs": [],
      "source": [
        "from sklearn.metrics import mean_absolute_error\n",
        "from sklearn.tree import DecisionTreeRegressor\n",
        "\n",
        "def get_mae(max_leaf_nodes, train_X, test_X, train_y, test_y):\n",
        "    model = DecisionTreeRegressor(max_leaf_nodes=max_leaf_nodes, random_state=0)\n",
        "    model.fit(train_X, train_y)\n",
        "    preds_val = model.predict(test_X)\n",
        "    mae = mean_absolute_error(test_y, preds_val)\n",
        "    return(mae)"
      ]
    },
    {
      "cell_type": "markdown",
      "id": "1769f77b-b1ab-4ed5-9aae-b1b42fb7eafa",
      "metadata": {
        "id": "1769f77b-b1ab-4ed5-9aae-b1b42fb7eafa"
      },
      "source": [
        "Wir können eine for-Schleife verwenden, um die Genauigkeit von Modellen zu vergleichen, die mit unterschiedlichen Werten für max_leaf_nodes erstellt wurden."
      ]
    },
    {
      "cell_type": "code",
      "execution_count": 19,
      "id": "d520cb7b-a0f2-418c-8f55-161545a2467d",
      "metadata": {
        "colab": {
          "base_uri": "https://localhost:8080/"
        },
        "id": "d520cb7b-a0f2-418c-8f55-161545a2467d",
        "outputId": "cd5362f8-1f4b-4449-8505-a09d399b7a18"
      },
      "outputs": [
        {
          "output_type": "stream",
          "name": "stdout",
          "text": [
            "Max leaf nodes: 5  \t\t Mean Absolute Error:  385696\n",
            "Max leaf nodes: 50  \t\t Mean Absolute Error:  279794\n",
            "Max leaf nodes: 500  \t\t Mean Absolute Error:  261718\n",
            "Max leaf nodes: 5000  \t\t Mean Absolute Error:  271320\n"
          ]
        }
      ],
      "source": [
        "for max_leaf_nodes in [5, 50, 500, 5000]:\n",
        "    my_mae = get_mae(max_leaf_nodes, train_X, test_X, train_y, test_y)\n",
        "    print(\"Max leaf nodes: %d  \\t\\t Mean Absolute Error:  %d\" %(max_leaf_nodes, my_mae))"
      ]
    },
    {
      "cell_type": "markdown",
      "id": "f68ed9a0-74cb-4cbc-b799-a55470818843",
      "metadata": {
        "id": "f68ed9a0-74cb-4cbc-b799-a55470818843"
      },
      "source": [
        "Von den aufgeführten Optionen ist 500 die optimale Anzahl von Blättern."
      ]
    },
    {
      "cell_type": "markdown",
      "id": "2d748670-71d9-47d4-8918-d35278d0f147",
      "metadata": {
        "id": "2d748670-71d9-47d4-8918-d35278d0f147"
      },
      "source": [
        "Entscheidungsbäume stellen uns vor eine schwierige Entscheidung. Ein tiefer Baum mit vielen Blättern leidet unter overfitting (Überanpassung), da jede Vorhersage auf historischen Daten von nur den wenigen Häusern an einem Blatt basiert. Aber ein flacher Baum mit wenigen Blättern wird schlecht abschneiden, weil er nicht so viele Unterschiede in den Rohdaten erfassen kann (underfitting).\n",
        "\n",
        "Sogar die anspruchsvollsten Modellierungstechniken von heute sind mit dieser Spannung zwischen Underfitting und Overfitting konfrontiert. Viele Modelle haben jedoch clevere Ideen, die zu einer besseren Leistung führen können. Als Beispiel betrachten wir nun den **Random Forest**.\n",
        "\n",
        "Der Random Forest verwendet viele Bäume und macht eine Vorhersage, indem er die Vorhersagen jedes einzelnen Baums mittelt (den Durchschnitt bildet). Der Random Forest hat im Allgemeinen eine viel bessere Vorhersagegenauigkeit als ein einzelner Entscheidungsbaum und funktioniert gut mit Standardparametern. Wenn wir weiter modellieren, können wir mehr Modelle mit noch besserer Leistung lernen, aber viele davon sind empfindlich, wenn es darum geht, die richtigen Parameter zu erhalten.\n",
        "\n",
        "Wir erstellen ein Random Forest Modell ähnlich wie wir einen Entscheidungsbaum in scikit-learn erstellt haben – diesmal unter Verwendung der Klasse „RandomForestRegressor“ anstelle von „DecisionTreeRegressor“."
      ]
    },
    {
      "cell_type": "code",
      "execution_count": 20,
      "id": "b0e3af23-8b11-4b88-92c5-67cf4f63fc8c",
      "metadata": {
        "colab": {
          "base_uri": "https://localhost:8080/"
        },
        "id": "b0e3af23-8b11-4b88-92c5-67cf4f63fc8c",
        "outputId": "bad4a1e2-0940-4a40-9e8f-11e24878b6dc"
      },
      "outputs": [
        {
          "output_type": "stream",
          "name": "stdout",
          "text": [
            "207190.6873773146\n"
          ]
        }
      ],
      "source": [
        "from sklearn.ensemble import RandomForestRegressor\n",
        "from sklearn.metrics import mean_absolute_error\n",
        "\n",
        "forest_model = RandomForestRegressor(random_state=1)\n",
        "forest_model.fit(train_X, train_y)\n",
        "melb_preds = forest_model.predict(test_X)\n",
        "print(mean_absolute_error(test_y, melb_preds))"
      ]
    },
    {
      "cell_type": "markdown",
      "id": "84b17356-d8cb-479d-9017-749885ae7dc5",
      "metadata": {
        "id": "84b17356-d8cb-479d-9017-749885ae7dc5"
      },
      "source": [
        "Es gibt immer noch viel Raum für weitere Verbesserungen, aber dies ist eine große Verbesserung gegenüber dem besten Entscheidungsbaumfehler von 260.000. Es gibt Parameter, mit denen wir die Beschaffenheit des Random Forest ändern können, so wie wir die maximale Tiefe des einzelnen Entscheidungsbaums auch geändert haben. Aber eine der besten Eigenschaften von Random-Forest-Modellen ist, dass sie im Allgemeinen auch ohne diese Optimierung der Hyperparameter vernünftig funktionieren."
      ]
    },
    {
      "cell_type": "markdown",
      "id": "eebfa257-52ac-4271-ba04-62e6fd3d01ba",
      "metadata": {
        "id": "eebfa257-52ac-4271-ba04-62e6fd3d01ba"
      },
      "source": [
        "### Geht es noch besser?\n",
        "Abschließend schauen wir uns ein noch komplexeres Machine Learning Modell an. Den sogenannten GradientBoostingRegressor. Dieser verfolgt im Kern ebenfalls die Idee eines Random Forests, allerdings wurden weitere Techniken angewendet, die zu einer höheren Vorhersagegüte führen (können). Ergänzt wurde dieses Modell um eine automatisierte Suche nach optimalen Hyperparametern. Dieses Vorgehen wird als \"Grid Search\" bezeichnet. Details dazu sprengen den Rahmen dieses Übungsblattes, können aber gerne im Zusammenhang mit \"Hyperparameteroptimierung\" und \"Cross Validation\" eigenständig recherchiert werden.\n",
        "\n",
        "Das Ausführen des Trainingsprozesses kann einige Minuten in Anspruch nehmen und wird den Rechner sehr beschäftigen. Holt euch einen Kaffee und atmet erst mal tief durch. Ich schätze 5-10 Minuten maximal."
      ]
    },
    {
      "cell_type": "code",
      "execution_count": 21,
      "id": "d5f59ba9-aecb-4907-ac44-57be8a084a62",
      "metadata": {
        "id": "d5f59ba9-aecb-4907-ac44-57be8a084a62"
      },
      "outputs": [],
      "source": [
        "from sklearn import datasets\n",
        "from sklearn.model_selection import train_test_split\n",
        "from sklearn.model_selection import GridSearchCV\n",
        "from sklearn.ensemble import GradientBoostingRegressor"
      ]
    },
    {
      "cell_type": "code",
      "execution_count": 24,
      "id": "e73d631b-632b-4f68-b59b-26df19981cd3",
      "metadata": {
        "colab": {
          "base_uri": "https://localhost:8080/",
          "height": 139
        },
        "id": "e73d631b-632b-4f68-b59b-26df19981cd3",
        "outputId": "5fb75d1f-8a37-40fb-dc6b-c0fd20d858bd"
      },
      "outputs": [
        {
          "output_type": "execute_result",
          "data": {
            "text/plain": [
              "GridSearchCV(cv=2,\n",
              "             estimator=GradientBoostingRegressor(loss='absolute_error',\n",
              "                                                 random_state=1),\n",
              "             n_jobs=-1,\n",
              "             param_grid={'learning_rate': [0.01, 0.02, 0.03, 0.04],\n",
              "                         'max_depth': [4, 6, 8, 10],\n",
              "                         'n_estimators': [100, 500, 1000, 1500],\n",
              "                         'subsample': [0.9, 0.5, 0.2, 0.1]})"
            ],
            "text/html": [
              "<style>#sk-container-id-2 {color: black;background-color: white;}#sk-container-id-2 pre{padding: 0;}#sk-container-id-2 div.sk-toggleable {background-color: white;}#sk-container-id-2 label.sk-toggleable__label {cursor: pointer;display: block;width: 100%;margin-bottom: 0;padding: 0.3em;box-sizing: border-box;text-align: center;}#sk-container-id-2 label.sk-toggleable__label-arrow:before {content: \"▸\";float: left;margin-right: 0.25em;color: #696969;}#sk-container-id-2 label.sk-toggleable__label-arrow:hover:before {color: black;}#sk-container-id-2 div.sk-estimator:hover label.sk-toggleable__label-arrow:before {color: black;}#sk-container-id-2 div.sk-toggleable__content {max-height: 0;max-width: 0;overflow: hidden;text-align: left;background-color: #f0f8ff;}#sk-container-id-2 div.sk-toggleable__content pre {margin: 0.2em;color: black;border-radius: 0.25em;background-color: #f0f8ff;}#sk-container-id-2 input.sk-toggleable__control:checked~div.sk-toggleable__content {max-height: 200px;max-width: 100%;overflow: auto;}#sk-container-id-2 input.sk-toggleable__control:checked~label.sk-toggleable__label-arrow:before {content: \"▾\";}#sk-container-id-2 div.sk-estimator input.sk-toggleable__control:checked~label.sk-toggleable__label {background-color: #d4ebff;}#sk-container-id-2 div.sk-label input.sk-toggleable__control:checked~label.sk-toggleable__label {background-color: #d4ebff;}#sk-container-id-2 input.sk-hidden--visually {border: 0;clip: rect(1px 1px 1px 1px);clip: rect(1px, 1px, 1px, 1px);height: 1px;margin: -1px;overflow: hidden;padding: 0;position: absolute;width: 1px;}#sk-container-id-2 div.sk-estimator {font-family: monospace;background-color: #f0f8ff;border: 1px dotted black;border-radius: 0.25em;box-sizing: border-box;margin-bottom: 0.5em;}#sk-container-id-2 div.sk-estimator:hover {background-color: #d4ebff;}#sk-container-id-2 div.sk-parallel-item::after {content: \"\";width: 100%;border-bottom: 1px solid gray;flex-grow: 1;}#sk-container-id-2 div.sk-label:hover label.sk-toggleable__label {background-color: #d4ebff;}#sk-container-id-2 div.sk-serial::before {content: \"\";position: absolute;border-left: 1px solid gray;box-sizing: border-box;top: 0;bottom: 0;left: 50%;z-index: 0;}#sk-container-id-2 div.sk-serial {display: flex;flex-direction: column;align-items: center;background-color: white;padding-right: 0.2em;padding-left: 0.2em;position: relative;}#sk-container-id-2 div.sk-item {position: relative;z-index: 1;}#sk-container-id-2 div.sk-parallel {display: flex;align-items: stretch;justify-content: center;background-color: white;position: relative;}#sk-container-id-2 div.sk-item::before, #sk-container-id-2 div.sk-parallel-item::before {content: \"\";position: absolute;border-left: 1px solid gray;box-sizing: border-box;top: 0;bottom: 0;left: 50%;z-index: -1;}#sk-container-id-2 div.sk-parallel-item {display: flex;flex-direction: column;z-index: 1;position: relative;background-color: white;}#sk-container-id-2 div.sk-parallel-item:first-child::after {align-self: flex-end;width: 50%;}#sk-container-id-2 div.sk-parallel-item:last-child::after {align-self: flex-start;width: 50%;}#sk-container-id-2 div.sk-parallel-item:only-child::after {width: 0;}#sk-container-id-2 div.sk-dashed-wrapped {border: 1px dashed gray;margin: 0 0.4em 0.5em 0.4em;box-sizing: border-box;padding-bottom: 0.4em;background-color: white;}#sk-container-id-2 div.sk-label label {font-family: monospace;font-weight: bold;display: inline-block;line-height: 1.2em;}#sk-container-id-2 div.sk-label-container {text-align: center;}#sk-container-id-2 div.sk-container {/* jupyter's `normalize.less` sets `[hidden] { display: none; }` but bootstrap.min.css set `[hidden] { display: none !important; }` so we also need the `!important` here to be able to override the default hidden behavior on the sphinx rendered scikit-learn.org. See: https://github.com/scikit-learn/scikit-learn/issues/21755 */display: inline-block !important;position: relative;}#sk-container-id-2 div.sk-text-repr-fallback {display: none;}</style><div id=\"sk-container-id-2\" class=\"sk-top-container\"><div class=\"sk-text-repr-fallback\"><pre>GridSearchCV(cv=2,\n",
              "             estimator=GradientBoostingRegressor(loss=&#x27;absolute_error&#x27;,\n",
              "                                                 random_state=1),\n",
              "             n_jobs=-1,\n",
              "             param_grid={&#x27;learning_rate&#x27;: [0.01, 0.02, 0.03, 0.04],\n",
              "                         &#x27;max_depth&#x27;: [4, 6, 8, 10],\n",
              "                         &#x27;n_estimators&#x27;: [100, 500, 1000, 1500],\n",
              "                         &#x27;subsample&#x27;: [0.9, 0.5, 0.2, 0.1]})</pre><b>In a Jupyter environment, please rerun this cell to show the HTML representation or trust the notebook. <br />On GitHub, the HTML representation is unable to render, please try loading this page with nbviewer.org.</b></div><div class=\"sk-container\" hidden><div class=\"sk-item sk-dashed-wrapped\"><div class=\"sk-label-container\"><div class=\"sk-label sk-toggleable\"><input class=\"sk-toggleable__control sk-hidden--visually\" id=\"sk-estimator-id-2\" type=\"checkbox\" ><label for=\"sk-estimator-id-2\" class=\"sk-toggleable__label sk-toggleable__label-arrow\">GridSearchCV</label><div class=\"sk-toggleable__content\"><pre>GridSearchCV(cv=2,\n",
              "             estimator=GradientBoostingRegressor(loss=&#x27;absolute_error&#x27;,\n",
              "                                                 random_state=1),\n",
              "             n_jobs=-1,\n",
              "             param_grid={&#x27;learning_rate&#x27;: [0.01, 0.02, 0.03, 0.04],\n",
              "                         &#x27;max_depth&#x27;: [4, 6, 8, 10],\n",
              "                         &#x27;n_estimators&#x27;: [100, 500, 1000, 1500],\n",
              "                         &#x27;subsample&#x27;: [0.9, 0.5, 0.2, 0.1]})</pre></div></div></div><div class=\"sk-parallel\"><div class=\"sk-parallel-item\"><div class=\"sk-item\"><div class=\"sk-label-container\"><div class=\"sk-label sk-toggleable\"><input class=\"sk-toggleable__control sk-hidden--visually\" id=\"sk-estimator-id-3\" type=\"checkbox\" ><label for=\"sk-estimator-id-3\" class=\"sk-toggleable__label sk-toggleable__label-arrow\">estimator: GradientBoostingRegressor</label><div class=\"sk-toggleable__content\"><pre>GradientBoostingRegressor(loss=&#x27;absolute_error&#x27;, random_state=1)</pre></div></div></div><div class=\"sk-serial\"><div class=\"sk-item\"><div class=\"sk-estimator sk-toggleable\"><input class=\"sk-toggleable__control sk-hidden--visually\" id=\"sk-estimator-id-4\" type=\"checkbox\" ><label for=\"sk-estimator-id-4\" class=\"sk-toggleable__label sk-toggleable__label-arrow\">GradientBoostingRegressor</label><div class=\"sk-toggleable__content\"><pre>GradientBoostingRegressor(loss=&#x27;absolute_error&#x27;, random_state=1)</pre></div></div></div></div></div></div></div></div></div></div>"
            ]
          },
          "metadata": {},
          "execution_count": 24
        }
      ],
      "source": [
        "GBR = GradientBoostingRegressor(random_state=1, loss='absolute_error')\n",
        "parameters = {'learning_rate': [0.01,0.02,0.03,0.04],\n",
        "                  'subsample'    : [0.9, 0.5, 0.2, 0.1],\n",
        "                  'n_estimators' : [100,500,1000,1500],\n",
        "                  'max_depth'    : [4,6,8,10]\n",
        "                 }\n",
        "\n",
        "grid_GBR = GridSearchCV(estimator=GBR, param_grid = parameters, cv = 2, n_jobs=-1)\n",
        "grid_GBR.fit(train_X, train_y)"
      ]
    },
    {
      "cell_type": "code",
      "execution_count": 25,
      "id": "b2b128a0-9542-4604-aceb-c81a2b9c35f7",
      "metadata": {
        "colab": {
          "base_uri": "https://localhost:8080/"
        },
        "id": "b2b128a0-9542-4604-aceb-c81a2b9c35f7",
        "outputId": "afe26321-2ee6-4fb3-c8cb-a84207a9af26"
      },
      "outputs": [
        {
          "output_type": "stream",
          "name": "stdout",
          "text": [
            "Hyperparameter (Optionen des GradientBoostingRegressors), die zum besten Ergebnis geführt haben:\n",
            "\n",
            "  GradientBoostingRegressor(learning_rate=0.02, loss='absolute_error',\n",
            "                          max_depth=10, n_estimators=1500, random_state=1,\n",
            "                          subsample=0.2)\n",
            "\n",
            " MAE vom GradientBoostingRegressor:\n",
            " 201046.7965444618\n"
          ]
        }
      ],
      "source": [
        "print(\"Hyperparameter (Optionen des GradientBoostingRegressors), die zum besten Ergebnis geführt haben:\" )\n",
        "print(\"\\n \",grid_GBR.best_estimator_)\n",
        "melb_preds = grid_GBR.predict(test_X)\n",
        "print(\"\\n MAE vom GradientBoostingRegressor:\\n\",mean_absolute_error(test_y, melb_preds))"
      ]
    },
    {
      "cell_type": "markdown",
      "id": "49ab5123-ba5a-457f-957e-458cd9197b21",
      "metadata": {
        "id": "49ab5123-ba5a-457f-957e-458cd9197b21"
      },
      "source": [
        "# Nun seid ihr an der Reihe!\n",
        "Ihr habt nun \"für eure Eltern\" eine intelligente Software geschrieben, die für Immobilien Preise schätzen kann. Nun hat eure Tante davon Wind bekommen und möchte, dass ihr das Gleiche für ihr Autohaus baut. Sie hat einen Datensatz, der viele Autos und deren Verkaufspreise enthält. Sie möchte, mit Hilfe eures Tools in der Lage sein, einen idealen Verkaufspreis für zukünftige Autos zu ermitteln.\n",
        "\n",
        "Im Order \"data\" befindet sich der Datensatz eurer Tante. Nehmt diesen als Basis um analog zu dem Tutorial oben mehr über die Daten zu erfahren und ein Vorhersagemodell für Autopreise zu trainieren."
      ]
    },
    {
      "cell_type": "markdown",
      "id": "f361d8e8-da2e-4b1a-b31e-aa6f9c27e183",
      "metadata": {
        "id": "f361d8e8-da2e-4b1a-b31e-aa6f9c27e183"
      },
      "source": [
        "### Aufgabe 1"
      ]
    },
    {
      "cell_type": "code",
      "execution_count": 55,
      "id": "15a9db81-53f1-434c-a35e-2d1751632141",
      "metadata": {
        "colab": {
          "base_uri": "https://localhost:8080/",
          "height": 300
        },
        "id": "15a9db81-53f1-434c-a35e-2d1751632141",
        "outputId": "1ad5c778-eb0e-490f-beb7-b873a00e8466"
      },
      "outputs": [
        {
          "output_type": "execute_result",
          "data": {
            "text/plain": [
              "               year          price        mileage           tax           mpg  \\\n",
              "count  80695.000000   80695.000000   80695.000000  80695.000000  80695.000000   \n",
              "mean    2017.108346   18130.560097   23079.247587    118.818452     55.861003   \n",
              "std        2.139025   10280.403886   21506.876474     64.767532     17.048323   \n",
              "min     1970.000000     495.000000       1.000000      0.000000      0.300000   \n",
              "25%     2016.000000   10991.000000    7000.000000    125.000000     47.700000   \n",
              "50%     2017.000000   15995.000000   17210.000000    145.000000     55.400000   \n",
              "75%     2019.000000   22495.000000   32486.000000    145.000000     64.200000   \n",
              "max     2060.000000  159999.000000  323000.000000    580.000000    470.800000   \n",
              "\n",
              "         engineSize  \n",
              "count  80695.000000  \n",
              "mean       1.717214  \n",
              "std        0.590740  \n",
              "min        0.000000  \n",
              "25%        1.200000  \n",
              "50%        1.600000  \n",
              "75%        2.000000  \n",
              "max        6.600000  "
            ],
            "text/html": [
              "\n",
              "  <div id=\"df-92c13651-155d-43ba-a3e1-0bc2c3879009\">\n",
              "    <div class=\"colab-df-container\">\n",
              "      <div>\n",
              "<style scoped>\n",
              "    .dataframe tbody tr th:only-of-type {\n",
              "        vertical-align: middle;\n",
              "    }\n",
              "\n",
              "    .dataframe tbody tr th {\n",
              "        vertical-align: top;\n",
              "    }\n",
              "\n",
              "    .dataframe thead th {\n",
              "        text-align: right;\n",
              "    }\n",
              "</style>\n",
              "<table border=\"1\" class=\"dataframe\">\n",
              "  <thead>\n",
              "    <tr style=\"text-align: right;\">\n",
              "      <th></th>\n",
              "      <th>year</th>\n",
              "      <th>price</th>\n",
              "      <th>mileage</th>\n",
              "      <th>tax</th>\n",
              "      <th>mpg</th>\n",
              "      <th>engineSize</th>\n",
              "    </tr>\n",
              "  </thead>\n",
              "  <tbody>\n",
              "    <tr>\n",
              "      <th>count</th>\n",
              "      <td>80695.000000</td>\n",
              "      <td>80695.000000</td>\n",
              "      <td>80695.000000</td>\n",
              "      <td>80695.000000</td>\n",
              "      <td>80695.000000</td>\n",
              "      <td>80695.000000</td>\n",
              "    </tr>\n",
              "    <tr>\n",
              "      <th>mean</th>\n",
              "      <td>2017.108346</td>\n",
              "      <td>18130.560097</td>\n",
              "      <td>23079.247587</td>\n",
              "      <td>118.818452</td>\n",
              "      <td>55.861003</td>\n",
              "      <td>1.717214</td>\n",
              "    </tr>\n",
              "    <tr>\n",
              "      <th>std</th>\n",
              "      <td>2.139025</td>\n",
              "      <td>10280.403886</td>\n",
              "      <td>21506.876474</td>\n",
              "      <td>64.767532</td>\n",
              "      <td>17.048323</td>\n",
              "      <td>0.590740</td>\n",
              "    </tr>\n",
              "    <tr>\n",
              "      <th>min</th>\n",
              "      <td>1970.000000</td>\n",
              "      <td>495.000000</td>\n",
              "      <td>1.000000</td>\n",
              "      <td>0.000000</td>\n",
              "      <td>0.300000</td>\n",
              "      <td>0.000000</td>\n",
              "    </tr>\n",
              "    <tr>\n",
              "      <th>25%</th>\n",
              "      <td>2016.000000</td>\n",
              "      <td>10991.000000</td>\n",
              "      <td>7000.000000</td>\n",
              "      <td>125.000000</td>\n",
              "      <td>47.700000</td>\n",
              "      <td>1.200000</td>\n",
              "    </tr>\n",
              "    <tr>\n",
              "      <th>50%</th>\n",
              "      <td>2017.000000</td>\n",
              "      <td>15995.000000</td>\n",
              "      <td>17210.000000</td>\n",
              "      <td>145.000000</td>\n",
              "      <td>55.400000</td>\n",
              "      <td>1.600000</td>\n",
              "    </tr>\n",
              "    <tr>\n",
              "      <th>75%</th>\n",
              "      <td>2019.000000</td>\n",
              "      <td>22495.000000</td>\n",
              "      <td>32486.000000</td>\n",
              "      <td>145.000000</td>\n",
              "      <td>64.200000</td>\n",
              "      <td>2.000000</td>\n",
              "    </tr>\n",
              "    <tr>\n",
              "      <th>max</th>\n",
              "      <td>2060.000000</td>\n",
              "      <td>159999.000000</td>\n",
              "      <td>323000.000000</td>\n",
              "      <td>580.000000</td>\n",
              "      <td>470.800000</td>\n",
              "      <td>6.600000</td>\n",
              "    </tr>\n",
              "  </tbody>\n",
              "</table>\n",
              "</div>\n",
              "      <button class=\"colab-df-convert\" onclick=\"convertToInteractive('df-92c13651-155d-43ba-a3e1-0bc2c3879009')\"\n",
              "              title=\"Convert this dataframe to an interactive table.\"\n",
              "              style=\"display:none;\">\n",
              "        \n",
              "  <svg xmlns=\"http://www.w3.org/2000/svg\" height=\"24px\"viewBox=\"0 0 24 24\"\n",
              "       width=\"24px\">\n",
              "    <path d=\"M0 0h24v24H0V0z\" fill=\"none\"/>\n",
              "    <path d=\"M18.56 5.44l.94 2.06.94-2.06 2.06-.94-2.06-.94-.94-2.06-.94 2.06-2.06.94zm-11 1L8.5 8.5l.94-2.06 2.06-.94-2.06-.94L8.5 2.5l-.94 2.06-2.06.94zm10 10l.94 2.06.94-2.06 2.06-.94-2.06-.94-.94-2.06-.94 2.06-2.06.94z\"/><path d=\"M17.41 7.96l-1.37-1.37c-.4-.4-.92-.59-1.43-.59-.52 0-1.04.2-1.43.59L10.3 9.45l-7.72 7.72c-.78.78-.78 2.05 0 2.83L4 21.41c.39.39.9.59 1.41.59.51 0 1.02-.2 1.41-.59l7.78-7.78 2.81-2.81c.8-.78.8-2.07 0-2.86zM5.41 20L4 18.59l7.72-7.72 1.47 1.35L5.41 20z\"/>\n",
              "  </svg>\n",
              "      </button>\n",
              "      \n",
              "  <style>\n",
              "    .colab-df-container {\n",
              "      display:flex;\n",
              "      flex-wrap:wrap;\n",
              "      gap: 12px;\n",
              "    }\n",
              "\n",
              "    .colab-df-convert {\n",
              "      background-color: #E8F0FE;\n",
              "      border: none;\n",
              "      border-radius: 50%;\n",
              "      cursor: pointer;\n",
              "      display: none;\n",
              "      fill: #1967D2;\n",
              "      height: 32px;\n",
              "      padding: 0 0 0 0;\n",
              "      width: 32px;\n",
              "    }\n",
              "\n",
              "    .colab-df-convert:hover {\n",
              "      background-color: #E2EBFA;\n",
              "      box-shadow: 0px 1px 2px rgba(60, 64, 67, 0.3), 0px 1px 3px 1px rgba(60, 64, 67, 0.15);\n",
              "      fill: #174EA6;\n",
              "    }\n",
              "\n",
              "    [theme=dark] .colab-df-convert {\n",
              "      background-color: #3B4455;\n",
              "      fill: #D2E3FC;\n",
              "    }\n",
              "\n",
              "    [theme=dark] .colab-df-convert:hover {\n",
              "      background-color: #434B5C;\n",
              "      box-shadow: 0px 1px 3px 1px rgba(0, 0, 0, 0.15);\n",
              "      filter: drop-shadow(0px 1px 2px rgba(0, 0, 0, 0.3));\n",
              "      fill: #FFFFFF;\n",
              "    }\n",
              "  </style>\n",
              "\n",
              "      <script>\n",
              "        const buttonEl =\n",
              "          document.querySelector('#df-92c13651-155d-43ba-a3e1-0bc2c3879009 button.colab-df-convert');\n",
              "        buttonEl.style.display =\n",
              "          google.colab.kernel.accessAllowed ? 'block' : 'none';\n",
              "\n",
              "        async function convertToInteractive(key) {\n",
              "          const element = document.querySelector('#df-92c13651-155d-43ba-a3e1-0bc2c3879009');\n",
              "          const dataTable =\n",
              "            await google.colab.kernel.invokeFunction('convertToInteractive',\n",
              "                                                     [key], {});\n",
              "          if (!dataTable) return;\n",
              "\n",
              "          const docLinkHtml = 'Like what you see? Visit the ' +\n",
              "            '<a target=\"_blank\" href=https://colab.research.google.com/notebooks/data_table.ipynb>data table notebook</a>'\n",
              "            + ' to learn more about interactive tables.';\n",
              "          element.innerHTML = '';\n",
              "          dataTable['output_type'] = 'display_data';\n",
              "          await google.colab.output.renderOutput(dataTable, element);\n",
              "          const docLink = document.createElement('div');\n",
              "          docLink.innerHTML = docLinkHtml;\n",
              "          element.appendChild(docLink);\n",
              "        }\n",
              "      </script>\n",
              "    </div>\n",
              "  </div>\n",
              "  "
            ]
          },
          "metadata": {},
          "execution_count": 55
        }
      ],
      "source": [
        "# Laded die Datei \"car_sales.csv\" in ein DataFrame\n",
        "data_path = 'https://raw.githubusercontent.com/Kaetherine/BI-Uebungsblaetter/main/LE2/data/car_sales.csv'\n",
        "car_data = pd.read_csv(data_path, index_col=0).drop(columns=[\"index\"])\n",
        "car_data = car_data.dropna(axis=0)\n",
        "\n",
        "# Statistische Zusammenfassung der Daten\n",
        "car_data.describe()"
      ]
    },
    {
      "cell_type": "code",
      "execution_count": 56,
      "id": "fbbe10df-e5ae-42bb-b44e-f1a7964b0e79",
      "metadata": {
        "colab": {
          "base_uri": "https://localhost:8080/",
          "height": 206
        },
        "id": "fbbe10df-e5ae-42bb-b44e-f1a7964b0e79",
        "outputId": "7b77f326-3ac1-4f70-e002-e4d1281a4913"
      },
      "outputs": [
        {
          "output_type": "execute_result",
          "data": {
            "text/plain": [
              "  model  year  price transmission  mileage fuelType    tax   mpg  engineSize  \\\n",
              "0    A1  2017  12500       Manual    15735   Petrol  150.0  55.4         1.4   \n",
              "1    A6  2016  16500    Automatic    36203   Diesel   20.0  64.2         2.0   \n",
              "2    A1  2016  11000       Manual    29946   Petrol   30.0  55.4         1.4   \n",
              "3    A4  2017  16800    Automatic    25952   Diesel  145.0  67.3         2.0   \n",
              "4    A3  2019  17300       Manual     1998   Petrol  145.0  49.6         1.0   \n",
              "\n",
              "  brand  \n",
              "0  audi  \n",
              "1  audi  \n",
              "2  audi  \n",
              "3  audi  \n",
              "4  audi  "
            ],
            "text/html": [
              "\n",
              "  <div id=\"df-f19585b6-23d4-48ee-9ca7-e785f08c894b\">\n",
              "    <div class=\"colab-df-container\">\n",
              "      <div>\n",
              "<style scoped>\n",
              "    .dataframe tbody tr th:only-of-type {\n",
              "        vertical-align: middle;\n",
              "    }\n",
              "\n",
              "    .dataframe tbody tr th {\n",
              "        vertical-align: top;\n",
              "    }\n",
              "\n",
              "    .dataframe thead th {\n",
              "        text-align: right;\n",
              "    }\n",
              "</style>\n",
              "<table border=\"1\" class=\"dataframe\">\n",
              "  <thead>\n",
              "    <tr style=\"text-align: right;\">\n",
              "      <th></th>\n",
              "      <th>model</th>\n",
              "      <th>year</th>\n",
              "      <th>price</th>\n",
              "      <th>transmission</th>\n",
              "      <th>mileage</th>\n",
              "      <th>fuelType</th>\n",
              "      <th>tax</th>\n",
              "      <th>mpg</th>\n",
              "      <th>engineSize</th>\n",
              "      <th>brand</th>\n",
              "    </tr>\n",
              "  </thead>\n",
              "  <tbody>\n",
              "    <tr>\n",
              "      <th>0</th>\n",
              "      <td>A1</td>\n",
              "      <td>2017</td>\n",
              "      <td>12500</td>\n",
              "      <td>Manual</td>\n",
              "      <td>15735</td>\n",
              "      <td>Petrol</td>\n",
              "      <td>150.0</td>\n",
              "      <td>55.4</td>\n",
              "      <td>1.4</td>\n",
              "      <td>audi</td>\n",
              "    </tr>\n",
              "    <tr>\n",
              "      <th>1</th>\n",
              "      <td>A6</td>\n",
              "      <td>2016</td>\n",
              "      <td>16500</td>\n",
              "      <td>Automatic</td>\n",
              "      <td>36203</td>\n",
              "      <td>Diesel</td>\n",
              "      <td>20.0</td>\n",
              "      <td>64.2</td>\n",
              "      <td>2.0</td>\n",
              "      <td>audi</td>\n",
              "    </tr>\n",
              "    <tr>\n",
              "      <th>2</th>\n",
              "      <td>A1</td>\n",
              "      <td>2016</td>\n",
              "      <td>11000</td>\n",
              "      <td>Manual</td>\n",
              "      <td>29946</td>\n",
              "      <td>Petrol</td>\n",
              "      <td>30.0</td>\n",
              "      <td>55.4</td>\n",
              "      <td>1.4</td>\n",
              "      <td>audi</td>\n",
              "    </tr>\n",
              "    <tr>\n",
              "      <th>3</th>\n",
              "      <td>A4</td>\n",
              "      <td>2017</td>\n",
              "      <td>16800</td>\n",
              "      <td>Automatic</td>\n",
              "      <td>25952</td>\n",
              "      <td>Diesel</td>\n",
              "      <td>145.0</td>\n",
              "      <td>67.3</td>\n",
              "      <td>2.0</td>\n",
              "      <td>audi</td>\n",
              "    </tr>\n",
              "    <tr>\n",
              "      <th>4</th>\n",
              "      <td>A3</td>\n",
              "      <td>2019</td>\n",
              "      <td>17300</td>\n",
              "      <td>Manual</td>\n",
              "      <td>1998</td>\n",
              "      <td>Petrol</td>\n",
              "      <td>145.0</td>\n",
              "      <td>49.6</td>\n",
              "      <td>1.0</td>\n",
              "      <td>audi</td>\n",
              "    </tr>\n",
              "  </tbody>\n",
              "</table>\n",
              "</div>\n",
              "      <button class=\"colab-df-convert\" onclick=\"convertToInteractive('df-f19585b6-23d4-48ee-9ca7-e785f08c894b')\"\n",
              "              title=\"Convert this dataframe to an interactive table.\"\n",
              "              style=\"display:none;\">\n",
              "        \n",
              "  <svg xmlns=\"http://www.w3.org/2000/svg\" height=\"24px\"viewBox=\"0 0 24 24\"\n",
              "       width=\"24px\">\n",
              "    <path d=\"M0 0h24v24H0V0z\" fill=\"none\"/>\n",
              "    <path d=\"M18.56 5.44l.94 2.06.94-2.06 2.06-.94-2.06-.94-.94-2.06-.94 2.06-2.06.94zm-11 1L8.5 8.5l.94-2.06 2.06-.94-2.06-.94L8.5 2.5l-.94 2.06-2.06.94zm10 10l.94 2.06.94-2.06 2.06-.94-2.06-.94-.94-2.06-.94 2.06-2.06.94z\"/><path d=\"M17.41 7.96l-1.37-1.37c-.4-.4-.92-.59-1.43-.59-.52 0-1.04.2-1.43.59L10.3 9.45l-7.72 7.72c-.78.78-.78 2.05 0 2.83L4 21.41c.39.39.9.59 1.41.59.51 0 1.02-.2 1.41-.59l7.78-7.78 2.81-2.81c.8-.78.8-2.07 0-2.86zM5.41 20L4 18.59l7.72-7.72 1.47 1.35L5.41 20z\"/>\n",
              "  </svg>\n",
              "      </button>\n",
              "      \n",
              "  <style>\n",
              "    .colab-df-container {\n",
              "      display:flex;\n",
              "      flex-wrap:wrap;\n",
              "      gap: 12px;\n",
              "    }\n",
              "\n",
              "    .colab-df-convert {\n",
              "      background-color: #E8F0FE;\n",
              "      border: none;\n",
              "      border-radius: 50%;\n",
              "      cursor: pointer;\n",
              "      display: none;\n",
              "      fill: #1967D2;\n",
              "      height: 32px;\n",
              "      padding: 0 0 0 0;\n",
              "      width: 32px;\n",
              "    }\n",
              "\n",
              "    .colab-df-convert:hover {\n",
              "      background-color: #E2EBFA;\n",
              "      box-shadow: 0px 1px 2px rgba(60, 64, 67, 0.3), 0px 1px 3px 1px rgba(60, 64, 67, 0.15);\n",
              "      fill: #174EA6;\n",
              "    }\n",
              "\n",
              "    [theme=dark] .colab-df-convert {\n",
              "      background-color: #3B4455;\n",
              "      fill: #D2E3FC;\n",
              "    }\n",
              "\n",
              "    [theme=dark] .colab-df-convert:hover {\n",
              "      background-color: #434B5C;\n",
              "      box-shadow: 0px 1px 3px 1px rgba(0, 0, 0, 0.15);\n",
              "      filter: drop-shadow(0px 1px 2px rgba(0, 0, 0, 0.3));\n",
              "      fill: #FFFFFF;\n",
              "    }\n",
              "  </style>\n",
              "\n",
              "      <script>\n",
              "        const buttonEl =\n",
              "          document.querySelector('#df-f19585b6-23d4-48ee-9ca7-e785f08c894b button.colab-df-convert');\n",
              "        buttonEl.style.display =\n",
              "          google.colab.kernel.accessAllowed ? 'block' : 'none';\n",
              "\n",
              "        async function convertToInteractive(key) {\n",
              "          const element = document.querySelector('#df-f19585b6-23d4-48ee-9ca7-e785f08c894b');\n",
              "          const dataTable =\n",
              "            await google.colab.kernel.invokeFunction('convertToInteractive',\n",
              "                                                     [key], {});\n",
              "          if (!dataTable) return;\n",
              "\n",
              "          const docLinkHtml = 'Like what you see? Visit the ' +\n",
              "            '<a target=\"_blank\" href=https://colab.research.google.com/notebooks/data_table.ipynb>data table notebook</a>'\n",
              "            + ' to learn more about interactive tables.';\n",
              "          element.innerHTML = '';\n",
              "          dataTable['output_type'] = 'display_data';\n",
              "          await google.colab.output.renderOutput(dataTable, element);\n",
              "          const docLink = document.createElement('div');\n",
              "          docLink.innerHTML = docLinkHtml;\n",
              "          element.appendChild(docLink);\n",
              "        }\n",
              "      </script>\n",
              "    </div>\n",
              "  </div>\n",
              "  "
            ]
          },
          "metadata": {},
          "execution_count": 56
        }
      ],
      "source": [
        "# Lasst euch die ersten 5 Zeilen des DataFrames car_data anzeigen\n",
        "car_data.head(5)"
      ]
    },
    {
      "cell_type": "code",
      "execution_count": 59,
      "id": "4bd47745-249f-4f36-a2c1-609fba927d30",
      "metadata": {
        "id": "4bd47745-249f-4f36-a2c1-609fba927d30"
      },
      "outputs": [],
      "source": [
        "# Erstellt X (dataframe mit den Features) und y (Series für die Zielvariable)\n",
        "# Lösung Tom\n",
        "# car_data.keys()\n",
        "X = car_data.drop('price', axis=1)\n",
        "Y = car_data['price']"
      ]
    },
    {
      "cell_type": "markdown",
      "id": "a2f8d4db-bc10-46f8-9b0d-439880bdf7f0",
      "metadata": {
        "id": "a2f8d4db-bc10-46f8-9b0d-439880bdf7f0"
      },
      "source": [
        "### Aufgabe 2"
      ]
    },
    {
      "cell_type": "code",
      "source": [
        "# Erstellt mindestens eine Visualisierung der Daten\n",
        "fig, ax= plt.subplots(figsize=(12,7))\n",
        "sns.heatmap(car_data.corr(), annot=True, cmap='viridis',\n",
        "            fmt='0.3f',ax=ax)\n",
        "ax.set_title('Korrelationsmatrix', fontsize=10)"
      ],
      "metadata": {
        "colab": {
          "base_uri": "https://localhost:8080/",
          "height": 459
        },
        "id": "dVjYj0K6Ovqo",
        "outputId": "5a90dd9d-1ef4-48e0-c2fd-d59bfe58f84a"
      },
      "id": "dVjYj0K6Ovqo",
      "execution_count": 60,
      "outputs": [
        {
          "output_type": "execute_result",
          "data": {
            "text/plain": [
              "Text(0.5, 1.0, 'Korrelationsmatrix')"
            ]
          },
          "metadata": {},
          "execution_count": 60
        },
        {
          "output_type": "display_data",
          "data": {
            "text/plain": [
              "<Figure size 864x504 with 2 Axes>"
            ],
            "image/png": "[encoded data removed]"
          },
          "metadata": {
            "needs_background": "light"
          }
        }
      ]
    },
    {
      "cell_type": "code",
      "execution_count": 61,
      "id": "c5509d80-1e31-4836-bb63-203d7dadd4d9",
      "metadata": {
        "id": "c5509d80-1e31-4836-bb63-203d7dadd4d9"
      },
      "outputs": [],
      "source": [
        "# Unser Datensatz besteht nicht nur aus numerischen Variablen sondern auch aus kategorischen.\n",
        "# Kategorische Variablen lassen sich nicht \"einfach so\" als Einflussvariablen für den Entscheidungsbaum nutzen.\n",
        "# Wir müssen die kategorischen Variablen daher zu Dummy Variablen umwandeln\n",
        "X = pd.get_dummies(X, columns=['model','transmission','fuelType', 'brand'], drop_first=True)"
      ]
    },
    {
      "cell_type": "code",
      "execution_count": 62,
      "id": "1dc1d486-c393-4852-8149-6217b9b60c9b",
      "metadata": {
        "colab": {
          "base_uri": "https://localhost:8080/",
          "height": 334
        },
        "id": "1dc1d486-c393-4852-8149-6217b9b60c9b",
        "outputId": "8ba20960-58e4-4ba6-cdc5-663a6a8c4c1f"
      },
      "outputs": [
        {
          "output_type": "execute_result",
          "data": {
            "text/plain": [
              "   year  mileage    tax   mpg  engineSize  model_ 2 Series  model_ 3 Series  \\\n",
              "0  2017    15735  150.0  55.4         1.4                0                0   \n",
              "1  2016    36203   20.0  64.2         2.0                0                0   \n",
              "2  2016    29946   30.0  55.4         1.4                0                0   \n",
              "3  2017    25952  145.0  67.3         2.0                0                0   \n",
              "4  2019     1998  145.0  49.6         1.0                0                0   \n",
              "\n",
              "   model_ 4 Series  model_ 5 Series  model_ 6 Series  ...  fuelType_Electric  \\\n",
              "0                0                0                0  ...                  0   \n",
              "1                0                0                0  ...                  0   \n",
              "2                0                0                0  ...                  0   \n",
              "3                0                0                0  ...                  0   \n",
              "4                0                0                0  ...                  0   \n",
              "\n",
              "   fuelType_Hybrid  fuelType_Other  fuelType_Petrol  brand_bmw  brand_ford  \\\n",
              "0                0               0                1          0           0   \n",
              "1                0               0                0          0           0   \n",
              "2                0               0                1          0           0   \n",
              "3                0               0                0          0           0   \n",
              "4                0               0                1          0           0   \n",
              "\n",
              "   brand_merc  brand_skoda  brand_toyota  brand_vw  \n",
              "0           0            0             0         0  \n",
              "1           0            0             0         0  \n",
              "2           0            0             0         0  \n",
              "3           0            0             0         0  \n",
              "4           0            0             0         0  \n",
              "\n",
              "[5 rows x 174 columns]"
            ],
            "text/html": [
              "\n",
              "  <div id=\"df-1b3149da-4b75-4f0b-9f0a-c05ab519f45f\">\n",
              "    <div class=\"colab-df-container\">\n",
              "      <div>\n",
              "<style scoped>\n",
              "    .dataframe tbody tr th:only-of-type {\n",
              "        vertical-align: middle;\n",
              "    }\n",
              "\n",
              "    .dataframe tbody tr th {\n",
              "        vertical-align: top;\n",
              "    }\n",
              "\n",
              "    .dataframe thead th {\n",
              "        text-align: right;\n",
              "    }\n",
              "</style>\n",
              "<table border=\"1\" class=\"dataframe\">\n",
              "  <thead>\n",
              "    <tr style=\"text-align: right;\">\n",
              "      <th></th>\n",
              "      <th>year</th>\n",
              "      <th>mileage</th>\n",
              "      <th>tax</th>\n",
              "      <th>mpg</th>\n",
              "      <th>engineSize</th>\n",
              "      <th>model_ 2 Series</th>\n",
              "      <th>model_ 3 Series</th>\n",
              "      <th>model_ 4 Series</th>\n",
              "      <th>model_ 5 Series</th>\n",
              "      <th>model_ 6 Series</th>\n",
              "      <th>...</th>\n",
              "      <th>fuelType_Electric</th>\n",
              "      <th>fuelType_Hybrid</th>\n",
              "      <th>fuelType_Other</th>\n",
              "      <th>fuelType_Petrol</th>\n",
              "      <th>brand_bmw</th>\n",
              "      <th>brand_ford</th>\n",
              "      <th>brand_merc</th>\n",
              "      <th>brand_skoda</th>\n",
              "      <th>brand_toyota</th>\n",
              "      <th>brand_vw</th>\n",
              "    </tr>\n",
              "  </thead>\n",
              "  <tbody>\n",
              "    <tr>\n",
              "      <th>0</th>\n",
              "      <td>2017</td>\n",
              "      <td>15735</td>\n",
              "      <td>150.0</td>\n",
              "      <td>55.4</td>\n",
              "      <td>1.4</td>\n",
              "      <td>0</td>\n",
              "      <td>0</td>\n",
              "      <td>0</td>\n",
              "      <td>0</td>\n",
              "      <td>0</td>\n",
              "      <td>...</td>\n",
              "      <td>0</td>\n",
              "      <td>0</td>\n",
              "      <td>0</td>\n",
              "      <td>1</td>\n",
              "      <td>0</td>\n",
              "      <td>0</td>\n",
              "      <td>0</td>\n",
              "      <td>0</td>\n",
              "      <td>0</td>\n",
              "      <td>0</td>\n",
              "    </tr>\n",
              "    <tr>\n",
              "      <th>1</th>\n",
              "      <td>2016</td>\n",
              "      <td>36203</td>\n",
              "      <td>20.0</td>\n",
              "      <td>64.2</td>\n",
              "      <td>2.0</td>\n",
              "      <td>0</td>\n",
              "      <td>0</td>\n",
              "      <td>0</td>\n",
              "      <td>0</td>\n",
              "      <td>0</td>\n",
              "      <td>...</td>\n",
              "      <td>0</td>\n",
              "      <td>0</td>\n",
              "      <td>0</td>\n",
              "      <td>0</td>\n",
              "      <td>0</td>\n",
              "      <td>0</td>\n",
              "      <td>0</td>\n",
              "      <td>0</td>\n",
              "      <td>0</td>\n",
              "      <td>0</td>\n",
              "    </tr>\n",
              "    <tr>\n",
              "      <th>2</th>\n",
              "      <td>2016</td>\n",
              "      <td>29946</td>\n",
              "      <td>30.0</td>\n",
              "      <td>55.4</td>\n",
              "      <td>1.4</td>\n",
              "      <td>0</td>\n",
              "      <td>0</td>\n",
              "      <td>0</td>\n",
              "      <td>0</td>\n",
              "      <td>0</td>\n",
              "      <td>...</td>\n",
              "      <td>0</td>\n",
              "      <td>0</td>\n",
              "      <td>0</td>\n",
              "      <td>1</td>\n",
              "      <td>0</td>\n",
              "      <td>0</td>\n",
              "      <td>0</td>\n",
              "      <td>0</td>\n",
              "      <td>0</td>\n",
              "      <td>0</td>\n",
              "    </tr>\n",
              "    <tr>\n",
              "      <th>3</th>\n",
              "      <td>2017</td>\n",
              "      <td>25952</td>\n",
              "      <td>145.0</td>\n",
              "      <td>67.3</td>\n",
              "      <td>2.0</td>\n",
              "      <td>0</td>\n",
              "      <td>0</td>\n",
              "      <td>0</td>\n",
              "      <td>0</td>\n",
              "      <td>0</td>\n",
              "      <td>...</td>\n",
              "      <td>0</td>\n",
              "      <td>0</td>\n",
              "      <td>0</td>\n",
              "      <td>0</td>\n",
              "      <td>0</td>\n",
              "      <td>0</td>\n",
              "      <td>0</td>\n",
              "      <td>0</td>\n",
              "      <td>0</td>\n",
              "      <td>0</td>\n",
              "    </tr>\n",
              "    <tr>\n",
              "      <th>4</th>\n",
              "      <td>2019</td>\n",
              "      <td>1998</td>\n",
              "      <td>145.0</td>\n",
              "      <td>49.6</td>\n",
              "      <td>1.0</td>\n",
              "      <td>0</td>\n",
              "      <td>0</td>\n",
              "      <td>0</td>\n",
              "      <td>0</td>\n",
              "      <td>0</td>\n",
              "      <td>...</td>\n",
              "      <td>0</td>\n",
              "      <td>0</td>\n",
              "      <td>0</td>\n",
              "      <td>1</td>\n",
              "      <td>0</td>\n",
              "      <td>0</td>\n",
              "      <td>0</td>\n",
              "      <td>0</td>\n",
              "      <td>0</td>\n",
              "      <td>0</td>\n",
              "    </tr>\n",
              "  </tbody>\n",
              "</table>\n",
              "<p>5 rows × 174 columns</p>\n",
              "</div>\n",
              "      <button class=\"colab-df-convert\" onclick=\"convertToInteractive('df-1b3149da-4b75-4f0b-9f0a-c05ab519f45f')\"\n",
              "              title=\"Convert this dataframe to an interactive table.\"\n",
              "              style=\"display:none;\">\n",
              "        \n",
              "  <svg xmlns=\"http://www.w3.org/2000/svg\" height=\"24px\"viewBox=\"0 0 24 24\"\n",
              "       width=\"24px\">\n",
              "    <path d=\"M0 0h24v24H0V0z\" fill=\"none\"/>\n",
              "    <path d=\"M18.56 5.44l.94 2.06.94-2.06 2.06-.94-2.06-.94-.94-2.06-.94 2.06-2.06.94zm-11 1L8.5 8.5l.94-2.06 2.06-.94-2.06-.94L8.5 2.5l-.94 2.06-2.06.94zm10 10l.94 2.06.94-2.06 2.06-.94-2.06-.94-.94-2.06-.94 2.06-2.06.94z\"/><path d=\"M17.41 7.96l-1.37-1.37c-.4-.4-.92-.59-1.43-.59-.52 0-1.04.2-1.43.59L10.3 9.45l-7.72 7.72c-.78.78-.78 2.05 0 2.83L4 21.41c.39.39.9.59 1.41.59.51 0 1.02-.2 1.41-.59l7.78-7.78 2.81-2.81c.8-.78.8-2.07 0-2.86zM5.41 20L4 18.59l7.72-7.72 1.47 1.35L5.41 20z\"/>\n",
              "  </svg>\n",
              "      </button>\n",
              "      \n",
              "  <style>\n",
              "    .colab-df-container {\n",
              "      display:flex;\n",
              "      flex-wrap:wrap;\n",
              "      gap: 12px;\n",
              "    }\n",
              "\n",
              "    .colab-df-convert {\n",
              "      background-color: #E8F0FE;\n",
              "      border: none;\n",
              "      border-radius: 50%;\n",
              "      cursor: pointer;\n",
              "      display: none;\n",
              "      fill: #1967D2;\n",
              "      height: 32px;\n",
              "      padding: 0 0 0 0;\n",
              "      width: 32px;\n",
              "    }\n",
              "\n",
              "    .colab-df-convert:hover {\n",
              "      background-color: #E2EBFA;\n",
              "      box-shadow: 0px 1px 2px rgba(60, 64, 67, 0.3), 0px 1px 3px 1px rgba(60, 64, 67, 0.15);\n",
              "      fill: #174EA6;\n",
              "    }\n",
              "\n",
              "    [theme=dark] .colab-df-convert {\n",
              "      background-color: #3B4455;\n",
              "      fill: #D2E3FC;\n",
              "    }\n",
              "\n",
              "    [theme=dark] .colab-df-convert:hover {\n",
              "      background-color: #434B5C;\n",
              "      box-shadow: 0px 1px 3px 1px rgba(0, 0, 0, 0.15);\n",
              "      filter: drop-shadow(0px 1px 2px rgba(0, 0, 0, 0.3));\n",
              "      fill: #FFFFFF;\n",
              "    }\n",
              "  </style>\n",
              "\n",
              "      <script>\n",
              "        const buttonEl =\n",
              "          document.querySelector('#df-1b3149da-4b75-4f0b-9f0a-c05ab519f45f button.colab-df-convert');\n",
              "        buttonEl.style.display =\n",
              "          google.colab.kernel.accessAllowed ? 'block' : 'none';\n",
              "\n",
              "        async function convertToInteractive(key) {\n",
              "          const element = document.querySelector('#df-1b3149da-4b75-4f0b-9f0a-c05ab519f45f');\n",
              "          const dataTable =\n",
              "            await google.colab.kernel.invokeFunction('convertToInteractive',\n",
              "                                                     [key], {});\n",
              "          if (!dataTable) return;\n",
              "\n",
              "          const docLinkHtml = 'Like what you see? Visit the ' +\n",
              "            '<a target=\"_blank\" href=https://colab.research.google.com/notebooks/data_table.ipynb>data table notebook</a>'\n",
              "            + ' to learn more about interactive tables.';\n",
              "          element.innerHTML = '';\n",
              "          dataTable['output_type'] = 'display_data';\n",
              "          await google.colab.output.renderOutput(dataTable, element);\n",
              "          const docLink = document.createElement('div');\n",
              "          docLink.innerHTML = docLinkHtml;\n",
              "          element.appendChild(docLink);\n",
              "        }\n",
              "      </script>\n",
              "    </div>\n",
              "  </div>\n",
              "  "
            ]
          },
          "metadata": {},
          "execution_count": 62
        }
      ],
      "source": [
        "X.head()"
      ]
    },
    {
      "cell_type": "markdown",
      "id": "35ee7d41-232d-4534-8f04-1a71550db5a3",
      "metadata": {
        "id": "35ee7d41-232d-4534-8f04-1a71550db5a3"
      },
      "source": [
        "### Aufgabe 3"
      ]
    },
    {
      "cell_type": "code",
      "execution_count": 75,
      "id": "8cde7c08-5469-46f2-9c71-11b9e5af68d6",
      "metadata": {
        "colab": {
          "base_uri": "https://localhost:8080/"
        },
        "id": "8cde7c08-5469-46f2-9c71-11b9e5af68d6",
        "outputId": "96f9e052-df69-4239-cb76-78f56ff44660"
      },
      "outputs": [
        {
          "output_type": "stream",
          "name": "stdout",
          "text": [
            "Max leaf nodes: 5\t Mean Absolute Error: 4325.5422619295605\n",
            "Max leaf nodes: 5005\t Mean Absolute Error: 1414.3078477875808\n",
            "Max leaf nodes: 10005\t Mean Absolute Error: 1442.758217746762\n",
            "Max leaf nodes: 15005\t Mean Absolute Error: 1472.006210252113\n",
            "Max leaf nodes: 20005\t Mean Absolute Error: 1497.7452070986503\n",
            "Max leaf nodes: 25005\t Mean Absolute Error: 1516.3732017043765\n",
            "Max leaf nodes: 30005\t Mean Absolute Error: 1530.7356494189453\n",
            "Max leaf nodes: 35005\t Mean Absolute Error: 1541.4719256640724\n",
            "Max leaf nodes: 40005\t Mean Absolute Error: 1548.1460923338918\n",
            "Max leaf nodes: 45005\t Mean Absolute Error: 1549.6162310059492\n",
            "Max leaf nodes: 50005\t Mean Absolute Error: 1550.2788824134789\n"
          ]
        }
      ],
      "source": [
        "# Daten in Trainings- und Testsdaten aufteilen, sowohl für Features als auch für die Zielvariable \"Preis\"\n",
        "train_X, test_X, train_y, test_y = train_test_split(X, Y, random_state = 0)\n",
        "\n",
        "# Modelldefinition\n",
        "car_model = DecisionTreeRegressor()\n",
        "\n",
        "# Modelltraining (\"Fit\")\n",
        "car_model.fit(train_X, train_y)\n",
        "\n",
        "# Prognose auf nicht zum Training verwendete Testdaten\n",
        "predictions = car_model.predict(test_X)\n",
        "\n",
        "# MAE Berechnung auf Basis der prognostizierten Daten und der Realität (die Preise aus dem Testdatensatz)\n",
        "mae = mean_absolute_error(test_y, predictions)\n",
        "\n",
        "# Mit einer For-Schleife den optimalen Wert für den Hyperparameter max_leaf_nodes finden.\n",
        "for max_leaf_nodes in range(5, 50006, 5000):\n",
        "    my_mae = get_mae(\n",
        "        max_leaf_nodes=max_leaf_nodes,\n",
        "        train_X=train_X, \n",
        "        test_X=test_X, \n",
        "        train_y=train_y, \n",
        "        test_y=test_y\n",
        "        )\n",
        "    print(f\"Max leaf nodes: {max_leaf_nodes}\\t Mean Absolute Error: {my_mae}\")\n"
      ]
    },
    {
      "cell_type": "markdown",
      "id": "06760fd0-adbf-4f33-af99-ba599f28da1a",
      "metadata": {
        "id": "06760fd0-adbf-4f33-af99-ba599f28da1a"
      },
      "source": [
        "### Aufgabe 4"
      ]
    },
    {
      "cell_type": "code",
      "execution_count": 76,
      "id": "6687522b-ad58-45d9-82a7-f32021e83f4a",
      "metadata": {
        "colab": {
          "base_uri": "https://localhost:8080/"
        },
        "id": "6687522b-ad58-45d9-82a7-f32021e83f4a",
        "outputId": "aecef8e0-8cc5-40ff-81e4-c6e572dd48c5"
      },
      "outputs": [
        {
          "output_type": "stream",
          "name": "stdout",
          "text": [
            "1215.0790104863731\n"
          ]
        }
      ],
      "source": [
        "# Einen Random Forest trainieren.\n",
        "forest_model = RandomForestRegressor(random_state=1)\n",
        "forest_model.fit(train_X, train_y)\n",
        "melb_preds = forest_model.predict(test_X)\n",
        "print(mean_absolute_error(test_y, melb_preds))\n",
        "\n"
      ]
    },
    {
      "cell_type": "code",
      "execution_count": null,
      "id": "d0610ec2-03bb-4d89-abf5-4982f72ebd20",
      "metadata": {
        "id": "d0610ec2-03bb-4d89-abf5-4982f72ebd20"
      },
      "outputs": [],
      "source": [
        "# Mindestens ein weiteres Modell eurer Wahl aus der sklearn Bibliothek anwenden und MAE ausgeben. \n",
        "# Wer den besten MAE schafft, bekommt ein Bienchen ins Muttiheft.\n"
      ]
    },
    {
      "cell_type": "code",
      "source": [
        "gpu_info = !nvidia-smi\n",
        "gpu_info = '\\n'.join(gpu_info)\n",
        "if gpu_info.find('failed') >= 0:\n",
        "  print('Not connected to a GPU')\n",
        "else:\n",
        "  print(gpu_info)"
      ],
      "metadata": {
        "colab": {
          "base_uri": "https://localhost:8080/"
        },
        "id": "FnuQr5aym5r1",
        "outputId": "463be73d-ddb5-4e62-d138-f8b24ee6afbf"
      },
      "id": "FnuQr5aym5r1",
      "execution_count": 89,
      "outputs": [
        {
          "output_type": "stream",
          "name": "stdout",
          "text": [
            "Fri Mar 24 17:41:43 2023       \n",
            "+-----------------------------------------------------------------------------+\n",
            "| NVIDIA-SMI 525.85.12    Driver Version: 525.85.12    CUDA Version: 12.0     |\n",
            "|-------------------------------+----------------------+----------------------+\n",
            "| GPU  Name        Persistence-M| Bus-Id        Disp.A | Volatile Uncorr. ECC |\n",
            "| Fan  Temp  Perf  Pwr:Usage/Cap|         Memory-Usage | GPU-Util  Compute M. |\n",
            "|                               |                      |               MIG M. |\n",
            "|===============================+======================+======================|\n",
            "|   0  NVIDIA A100-SXM...  Off  | 00000000:00:04.0 Off |                    0 |\n",
            "| N/A   34C    P0    45W / 400W |      0MiB / 40960MiB |      0%      Default |\n",
            "|                               |                      |             Disabled |\n",
            "+-------------------------------+----------------------+----------------------+\n",
            "                                                                               \n",
            "+-----------------------------------------------------------------------------+\n",
            "| Processes:                                                                  |\n",
            "|  GPU   GI   CI        PID   Type   Process name                  GPU Memory |\n",
            "|        ID   ID                                                   Usage      |\n",
            "|=============================================================================|\n",
            "|  No running processes found                                                 |\n",
            "+-----------------------------------------------------------------------------+\n"
          ]
        }
      ]
    },
    {
      "cell_type": "code",
      "execution_count": 90,
      "id": "fd636d70-9977-4b6b-a326-65c5e9ce5bf7",
      "metadata": {
        "colab": {
          "base_uri": "https://localhost:8080/",
          "height": 139
        },
        "id": "fd636d70-9977-4b6b-a326-65c5e9ce5bf7",
        "outputId": "d7e41d78-4e2c-44f1-fbcd-dd985dbfa691"
      },
      "outputs": [
        {
          "output_type": "execute_result",
          "data": {
            "text/plain": [
              "GridSearchCV(cv=2,\n",
              "             estimator=GradientBoostingRegressor(loss='absolute_error',\n",
              "                                                 random_state=1),\n",
              "             n_jobs=-1,\n",
              "             param_grid={'learning_rate': [0.01, 0.02, 0.03, 0.04],\n",
              "                         'max_depth': [4, 6, 8, 10],\n",
              "                         'n_estimators': [100, 500, 1000, 1500],\n",
              "                         'subsample': [0.9, 0.5, 0.2, 0.1]})"
            ],
            "text/html": [
              "<style>#sk-container-id-3 {color: black;background-color: white;}#sk-container-id-3 pre{padding: 0;}#sk-container-id-3 div.sk-toggleable {background-color: white;}#sk-container-id-3 label.sk-toggleable__label {cursor: pointer;display: block;width: 100%;margin-bottom: 0;padding: 0.3em;box-sizing: border-box;text-align: center;}#sk-container-id-3 label.sk-toggleable__label-arrow:before {content: \"▸\";float: left;margin-right: 0.25em;color: #696969;}#sk-container-id-3 label.sk-toggleable__label-arrow:hover:before {color: black;}#sk-container-id-3 div.sk-estimator:hover label.sk-toggleable__label-arrow:before {color: black;}#sk-container-id-3 div.sk-toggleable__content {max-height: 0;max-width: 0;overflow: hidden;text-align: left;background-color: #f0f8ff;}#sk-container-id-3 div.sk-toggleable__content pre {margin: 0.2em;color: black;border-radius: 0.25em;background-color: #f0f8ff;}#sk-container-id-3 input.sk-toggleable__control:checked~div.sk-toggleable__content {max-height: 200px;max-width: 100%;overflow: auto;}#sk-container-id-3 input.sk-toggleable__control:checked~label.sk-toggleable__label-arrow:before {content: \"▾\";}#sk-container-id-3 div.sk-estimator input.sk-toggleable__control:checked~label.sk-toggleable__label {background-color: #d4ebff;}#sk-container-id-3 div.sk-label input.sk-toggleable__control:checked~label.sk-toggleable__label {background-color: #d4ebff;}#sk-container-id-3 input.sk-hidden--visually {border: 0;clip: rect(1px 1px 1px 1px);clip: rect(1px, 1px, 1px, 1px);height: 1px;margin: -1px;overflow: hidden;padding: 0;position: absolute;width: 1px;}#sk-container-id-3 div.sk-estimator {font-family: monospace;background-color: #f0f8ff;border: 1px dotted black;border-radius: 0.25em;box-sizing: border-box;margin-bottom: 0.5em;}#sk-container-id-3 div.sk-estimator:hover {background-color: #d4ebff;}#sk-container-id-3 div.sk-parallel-item::after {content: \"\";width: 100%;border-bottom: 1px solid gray;flex-grow: 1;}#sk-container-id-3 div.sk-label:hover label.sk-toggleable__label {background-color: #d4ebff;}#sk-container-id-3 div.sk-serial::before {content: \"\";position: absolute;border-left: 1px solid gray;box-sizing: border-box;top: 0;bottom: 0;left: 50%;z-index: 0;}#sk-container-id-3 div.sk-serial {display: flex;flex-direction: column;align-items: center;background-color: white;padding-right: 0.2em;padding-left: 0.2em;position: relative;}#sk-container-id-3 div.sk-item {position: relative;z-index: 1;}#sk-container-id-3 div.sk-parallel {display: flex;align-items: stretch;justify-content: center;background-color: white;position: relative;}#sk-container-id-3 div.sk-item::before, #sk-container-id-3 div.sk-parallel-item::before {content: \"\";position: absolute;border-left: 1px solid gray;box-sizing: border-box;top: 0;bottom: 0;left: 50%;z-index: -1;}#sk-container-id-3 div.sk-parallel-item {display: flex;flex-direction: column;z-index: 1;position: relative;background-color: white;}#sk-container-id-3 div.sk-parallel-item:first-child::after {align-self: flex-end;width: 50%;}#sk-container-id-3 div.sk-parallel-item:last-child::after {align-self: flex-start;width: 50%;}#sk-container-id-3 div.sk-parallel-item:only-child::after {width: 0;}#sk-container-id-3 div.sk-dashed-wrapped {border: 1px dashed gray;margin: 0 0.4em 0.5em 0.4em;box-sizing: border-box;padding-bottom: 0.4em;background-color: white;}#sk-container-id-3 div.sk-label label {font-family: monospace;font-weight: bold;display: inline-block;line-height: 1.2em;}#sk-container-id-3 div.sk-label-container {text-align: center;}#sk-container-id-3 div.sk-container {/* jupyter's `normalize.less` sets `[hidden] { display: none; }` but bootstrap.min.css set `[hidden] { display: none !important; }` so we also need the `!important` here to be able to override the default hidden behavior on the sphinx rendered scikit-learn.org. See: https://github.com/scikit-learn/scikit-learn/issues/21755 */display: inline-block !important;position: relative;}#sk-container-id-3 div.sk-text-repr-fallback {display: none;}</style><div id=\"sk-container-id-3\" class=\"sk-top-container\"><div class=\"sk-text-repr-fallback\"><pre>GridSearchCV(cv=2,\n",
              "             estimator=GradientBoostingRegressor(loss=&#x27;absolute_error&#x27;,\n",
              "                                                 random_state=1),\n",
              "             n_jobs=-1,\n",
              "             param_grid={&#x27;learning_rate&#x27;: [0.01, 0.02, 0.03, 0.04],\n",
              "                         &#x27;max_depth&#x27;: [4, 6, 8, 10],\n",
              "                         &#x27;n_estimators&#x27;: [100, 500, 1000, 1500],\n",
              "                         &#x27;subsample&#x27;: [0.9, 0.5, 0.2, 0.1]})</pre><b>In a Jupyter environment, please rerun this cell to show the HTML representation or trust the notebook. <br />On GitHub, the HTML representation is unable to render, please try loading this page with nbviewer.org.</b></div><div class=\"sk-container\" hidden><div class=\"sk-item sk-dashed-wrapped\"><div class=\"sk-label-container\"><div class=\"sk-label sk-toggleable\"><input class=\"sk-toggleable__control sk-hidden--visually\" id=\"sk-estimator-id-5\" type=\"checkbox\" ><label for=\"sk-estimator-id-5\" class=\"sk-toggleable__label sk-toggleable__label-arrow\">GridSearchCV</label><div class=\"sk-toggleable__content\"><pre>GridSearchCV(cv=2,\n",
              "             estimator=GradientBoostingRegressor(loss=&#x27;absolute_error&#x27;,\n",
              "                                                 random_state=1),\n",
              "             n_jobs=-1,\n",
              "             param_grid={&#x27;learning_rate&#x27;: [0.01, 0.02, 0.03, 0.04],\n",
              "                         &#x27;max_depth&#x27;: [4, 6, 8, 10],\n",
              "                         &#x27;n_estimators&#x27;: [100, 500, 1000, 1500],\n",
              "                         &#x27;subsample&#x27;: [0.9, 0.5, 0.2, 0.1]})</pre></div></div></div><div class=\"sk-parallel\"><div class=\"sk-parallel-item\"><div class=\"sk-item\"><div class=\"sk-label-container\"><div class=\"sk-label sk-toggleable\"><input class=\"sk-toggleable__control sk-hidden--visually\" id=\"sk-estimator-id-6\" type=\"checkbox\" ><label for=\"sk-estimator-id-6\" class=\"sk-toggleable__label sk-toggleable__label-arrow\">estimator: GradientBoostingRegressor</label><div class=\"sk-toggleable__content\"><pre>GradientBoostingRegressor(loss=&#x27;absolute_error&#x27;, random_state=1)</pre></div></div></div><div class=\"sk-serial\"><div class=\"sk-item\"><div class=\"sk-estimator sk-toggleable\"><input class=\"sk-toggleable__control sk-hidden--visually\" id=\"sk-estimator-id-7\" type=\"checkbox\" ><label for=\"sk-estimator-id-7\" class=\"sk-toggleable__label sk-toggleable__label-arrow\">GradientBoostingRegressor</label><div class=\"sk-toggleable__content\"><pre>GradientBoostingRegressor(loss=&#x27;absolute_error&#x27;, random_state=1)</pre></div></div></div></div></div></div></div></div></div></div>"
            ]
          },
          "metadata": {},
          "execution_count": 90
        }
      ],
      "source": [
        "GBR = GradientBoostingRegressor(random_state=1, loss='absolute_error')\n",
        "parameters = {'learning_rate': [0.01,0.02,0.03,0.04],\n",
        "                  'subsample'    : [0.9, 0.5, 0.2, 0.1],\n",
        "                  'n_estimators' : [100,500,1000,1500],\n",
        "                  'max_depth'    : [4,6,8,10]\n",
        "                 }\n",
        "\n",
        "grid_GBR = GridSearchCV(estimator=GBR, param_grid = parameters, cv = 2, n_jobs=-1)\n",
        "grid_GBR.fit(train_X, train_y)"
      ]
    },
    {
      "cell_type": "code",
      "source": [
        "print(\"Hyperparameter (Optionen des GradientBoostingRegressors), die zum besten Ergebnis geführt haben:\" )\n",
        "print(\"\\n \",grid_GBR.best_estimator_)\n",
        "melb_preds = grid_GBR.predict(test_X)\n",
        "print(\"\\n MAE vom GradientBoostingRegressor:\\n\",mean_absolute_error(test_y, melb_preds))"
      ],
      "metadata": {
        "colab": {
          "base_uri": "https://localhost:8080/"
        },
        "id": "64rcIZJBFO1x",
        "outputId": "e011aba9-9267-4b5b-e07b-4beb524ca38e"
      },
      "id": "64rcIZJBFO1x",
      "execution_count": 91,
      "outputs": [
        {
          "output_type": "stream",
          "name": "stdout",
          "text": [
            "Hyperparameter (Optionen des GradientBoostingRegressors), die zum besten Ergebnis geführt haben:\n",
            "\n",
            "  GradientBoostingRegressor(learning_rate=0.04, loss='absolute_error',\n",
            "                          max_depth=10, n_estimators=1500, random_state=1,\n",
            "                          subsample=0.5)\n",
            "\n",
            " MAE vom GradientBoostingRegressor:\n",
            " 1137.2850993569266\n"
          ]
        }
      ]
    },
    {
      "cell_type": "markdown",
      "id": "ae7c93f3-10fc-48ea-ad20-d0b9d5eccba9",
      "metadata": {
        "id": "ae7c93f3-10fc-48ea-ad20-d0b9d5eccba9"
      },
      "source": [
        "### Aufgabe 5\n",
        "> Bitte fast kurz zusammen, was ihr über den car_data Datensatz herausgefunden habt und wie gut eure Modelle sind."
      ]
    },
    {
      "cell_type": "code",
      "execution_count": null,
      "id": "426e156a-473e-471e-ae4e-fd3e97af0117",
      "metadata": {
        "id": "426e156a-473e-471e-ae4e-fd3e97af0117"
      },
      "outputs": [],
      "source": [
        "# INSERT \"ZUSAMMENFASSUNG\" HERE"
      ]
    },
    {
      "cell_type": "code",
      "execution_count": null,
      "id": "7ca33d3a-153c-4240-8ec3-84ecab9f1d82",
      "metadata": {
        "id": "7ca33d3a-153c-4240-8ec3-84ecab9f1d82"
      },
      "outputs": [],
      "source": []
    },
    {
      "cell_type": "code",
      "execution_count": null,
      "id": "8b2e6d8f-457a-4cff-b754-2792333623f3",
      "metadata": {
        "id": "8b2e6d8f-457a-4cff-b754-2792333623f3"
      },
      "outputs": [],
      "source": []
    },
    {
      "cell_type": "markdown",
      "id": "4d2feff8-254b-46d2-bf7a-5f258983ce44",
      "metadata": {
        "id": "4d2feff8-254b-46d2-bf7a-5f258983ce44"
      },
      "source": [
        "*Vorlage für dieses Übungsblatt: https://www.kaggle.com/learn/intro-to-machine-learning*"
      ]
    }
  ],
  "metadata": {
    "kernelspec": {
      "display_name": "Python 3 (ipykernel)",
      "language": "python",
      "name": "python3"
    },
    "language_info": {
      "codemirror_mode": {
        "name": "ipython",
        "version": 3
      },
      "file_extension": ".py",
      "mimetype": "text/x-python",
      "name": "python",
      "nbconvert_exporter": "python",
      "pygments_lexer": "ipython3",
      "version": "3.9.7"
    },
    "colab": {
      "provenance": [],
      "include_colab_link": true
    },
    "gpuClass": "standard",
    "accelerator": "GPU"
  },
  "nbformat": 4,
  "nbformat_minor": 5
}