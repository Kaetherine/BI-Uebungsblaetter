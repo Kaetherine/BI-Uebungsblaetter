{
 "cells": [
  {
   "cell_type": "markdown",
   "id": "6da4ea6c-5543-4913-970d-06f1a41d0f65",
   "metadata": {},
   "source": [
    "# Business Intelligence (WI-201) / 2023\n",
    "#### Prof. Dr. Sebastian Fischer"
   ]
  },
  {
   "cell_type": "markdown",
   "id": "6de36c83-4ba8-4b35-86e8-903f31347070",
   "metadata": {},
   "source": [
    "## Übungsblatt 2: OLAP"
   ]
  },
  {
   "cell_type": "markdown",
   "id": "c45ab0b7-1dde-48b5-a84e-0adea701e3bf",
   "metadata": {},
   "source": [
    "> *Durch die Bearbeitung dieses Übungsblattes werden die Lerninhalte der Lerneinheit 2 praktisch angewendet und gefestigt. Durch pünktliche Abgabe eines vollständigen Übungsblattes werden Punkte auf die Gesamtbewertung erzielt. Das Übungsblatt ist eine Individualleistung. Gleichzeitig darf mit maximal zwei weiteren Studierenden gemeinsam die eigene Lösung besprochen werden. Sollte eine Lösung Elemente von anderen Studierenden oder Quellen beinhalten, die nicht als solche gekennzeichnet wurden, wird das Übungsblatt für alle Beteiligten mit 0 Punkten bewertet.*"
   ]
  },
  {
   "cell_type": "code",
   "execution_count": 6,
   "id": "a30d31f1-4eb3-46ac-81e5-9da04d88cb79",
   "metadata": {},
   "outputs": [],
   "source": [
    "from hilfsfunktionen import *\n",
    "import pandas as pd\n",
    "import numpy as np\n",
    "from IPython.display import display_html\n",
    "from sqlalchemy import create_engine, text\n",
    "import mysql.connector\n",
    "from mysql.connector import errorcode\n",
    "import pymysql\n"
   ]
  },
  {
   "cell_type": "markdown",
   "id": "eea34994-626b-4e58-9b05-1d9ef61a3b3a",
   "metadata": {},
   "source": [
    "## Aufgabe 1: \n",
    "**OLAP orientierte Analyse direkt aus dem Star-Schema (Übungsblatt 1) mit SQL**\n",
    "\n",
    "Wir wollen nun unser in Übungsblatt 1 erstelltes Star-Schema erneut mit SQL abfragen, um die folgenden 3 unternehmensrelevanten Fragestellungen zu beantworten"
   ]
  },
  {
   "cell_type": "markdown",
   "id": "f03043f6-3b94-4469-a0fd-71b786f10b2c",
   "metadata": {},
   "source": [
    ">1. Wie viel Gewinn haben die Filialen in Deutschland im Monat März gemacht?\n",
    ">2. Welche Produktkategorien haben in welchen Ländern einen Verlust (negativer Gewinn) eingebracht?\n",
    ">3. Denke dir eine weitere OLAP-Analyse aus. Oder nimm diese hier: Von welchen Herstellern wurde insgesamt wie viel umgesetzt?"
   ]
  },
  {
   "cell_type": "code",
   "execution_count": 7,
   "id": "3b976762-8ab3-493b-b614-325c1c086642",
   "metadata": {},
   "outputs": [
    {
     "name": "stdout",
     "output_type": "stream",
     "text": [
      "MySQL Database connection successful\n",
      "Database created successfully\n",
      "Database created successfully\n",
      "MySQL Database connection successful\n",
      "Query successful\n"
     ]
    }
   ],
   "source": [
    "mysql_usr = \"Katherine\" # mit eurem Nutzer ersetzen\n",
    "mysql_pw = \"root\" # mit eurem Passwort ersetzen\n",
    "\n",
    "connection = create_server_connection(\"localhost\", mysql_usr, mysql_pw)\n",
    "# Falls bereits eine Datenbank namens \"OLAP_DB\" existiert, wird sie mit diesem Befehl gelöscht:\n",
    "create_database_query = \"DROP DATABASE IF EXISTS OLAP_DB;\"\n",
    "create_database(connection, create_database_query)\n",
    "\n",
    "# Erstellen der Datenbank \"OLAP_DB\"\n",
    "create_database_query = \"CREATE DATABASE OLAP_DB;\"\n",
    "create_database(connection, create_database_query)\n",
    "\n",
    "# Befüllen der OLAP_DB mit Daten aus bereitgestelltem SQL script\n",
    "file = open(\"data/db/OLAP_DB_schema+data.sql\", 'r')\n",
    "olap_db_sql_script_string = file.read()\n",
    "file.close()\n",
    "connection = create_db_connection(\"localhost\", mysql_usr, mysql_pw, \"OLAP_DB\")\n",
    "execute_query(connection, olap_db_sql_script_string)"
   ]
  },
  {
   "cell_type": "code",
   "execution_count": 8,
   "id": "bffdca50-4a58-4f0d-950b-3bdc546a6244",
   "metadata": {},
   "outputs": [
    {
     "name": "stdout",
     "output_type": "stream",
     "text": [
      "MySQL Database connection successful\n",
      "Database created successfully\n",
      "Database created successfully\n",
      "MySQL Database connection successful\n",
      "result: []\n",
      "Query successful\n"
     ]
    }
   ],
   "source": [
    "connection = create_server_connection(\"localhost\", mysql_usr, mysql_pw)\n",
    "create_database(connection, \"DROP DATABASE IF EXISTS OLTP_DB;\")\n",
    "create_database(connection, \"CREATE DATABASE OLTP_DB;\")\n",
    "\n"
   ]
  },
  {
   "cell_type": "markdown",
   "id": "b6f2c678-e776-4cae-9478-b2d5bcdbb56e",
   "metadata": {},
   "source": [
    "### Beispiel"
   ]
  },
  {
   "cell_type": "code",
   "execution_count": 22,
   "id": "4266f1ce-2f95-4911-bfde-f0dae68e85b3",
   "metadata": {},
   "outputs": [
    {
     "name": "stderr",
     "output_type": "stream",
     "text": [
      "C:\\Users\\kuhle\\AppData\\Local\\Temp\\ipykernel_1288\\2621699765.py:11: UserWarning: pandas only supports SQLAlchemy connectable (engine/connection) or database string URI or sqlite3 DBAPI2 connection. Other DBAPI2 objects are not tested. Please consider using SQLAlchemy.\n",
      "  df_umsaetze_land_waehrung = pd.read_sql('select * from OLAP_DB.produktstamm', con=db_connection)\n"
     ]
    },
    {
     "data": {
      "text/html": [
       "<div>\n",
       "<style scoped>\n",
       "    .dataframe tbody tr th:only-of-type {\n",
       "        vertical-align: middle;\n",
       "    }\n",
       "\n",
       "    .dataframe tbody tr th {\n",
       "        vertical-align: top;\n",
       "    }\n",
       "\n",
       "    .dataframe thead th {\n",
       "        text-align: right;\n",
       "    }\n",
       "</style>\n",
       "<table border=\"1\" class=\"dataframe\">\n",
       "  <thead>\n",
       "    <tr style=\"text-align: right;\">\n",
       "      <th></th>\n",
       "      <th>ProduktID</th>\n",
       "      <th>Produktkategorie</th>\n",
       "      <th>Hersteller</th>\n",
       "      <th>Einheit</th>\n",
       "      <th>Herstellkosten je Einheit in EUR</th>\n",
       "      <th>Kurztext</th>\n",
       "      <th>Langtext</th>\n",
       "    </tr>\n",
       "  </thead>\n",
       "  <tbody>\n",
       "    <tr>\n",
       "      <th>0</th>\n",
       "      <td>1</td>\n",
       "      <td>Tablet PC</td>\n",
       "      <td>Acer</td>\n",
       "      <td>ST</td>\n",
       "      <td>1189</td>\n",
       "      <td>Acer TM C104TCi Tablet PC</td>\n",
       "      <td>900-MHz PIII-M 256 MB RAM 40 GB Hard Drive</td>\n",
       "    </tr>\n",
       "    <tr>\n",
       "      <th>1</th>\n",
       "      <td>2</td>\n",
       "      <td>Notebook</td>\n",
       "      <td>Acer</td>\n",
       "      <td>ST</td>\n",
       "      <td>851</td>\n",
       "      <td>Acer TravelMate 233XV Notebook</td>\n",
       "      <td>20-GHz Celeron-M 256 MB RAM 30 GB Hard Drive D...</td>\n",
       "    </tr>\n",
       "    <tr>\n",
       "      <th>2</th>\n",
       "      <td>3</td>\n",
       "      <td>Notebook</td>\n",
       "      <td>Acer</td>\n",
       "      <td>ST</td>\n",
       "      <td>1679</td>\n",
       "      <td>Acer TravelMate 281XV Notebook</td>\n",
       "      <td>180-GHz Pentium 4-M 256 MB RAM 30 GB Hard Driv...</td>\n",
       "    </tr>\n",
       "    <tr>\n",
       "      <th>3</th>\n",
       "      <td>4</td>\n",
       "      <td>Notebook</td>\n",
       "      <td>Acer</td>\n",
       "      <td>ST</td>\n",
       "      <td>781</td>\n",
       "      <td>Acer TravelMate TM233XVi Notebook PC</td>\n",
       "      <td>20-GHz Celeron-M 256 MB RAM 30 GB Hard Drive</td>\n",
       "    </tr>\n",
       "    <tr>\n",
       "      <th>4</th>\n",
       "      <td>5</td>\n",
       "      <td>Notebook</td>\n",
       "      <td>Acer</td>\n",
       "      <td>ST</td>\n",
       "      <td>977</td>\n",
       "      <td>Acer TravelMate TM234LCi Notebook PC</td>\n",
       "      <td>22-GHz Celeron-M 512 MB RAM 40 GB Hard Drive</td>\n",
       "    </tr>\n",
       "    <tr>\n",
       "      <th>...</th>\n",
       "      <td>...</td>\n",
       "      <td>...</td>\n",
       "      <td>...</td>\n",
       "      <td>...</td>\n",
       "      <td>...</td>\n",
       "      <td>...</td>\n",
       "      <td>...</td>\n",
       "    </tr>\n",
       "    <tr>\n",
       "      <th>94</th>\n",
       "      <td>95</td>\n",
       "      <td>Tablet</td>\n",
       "      <td>Sony</td>\n",
       "      <td>ST</td>\n",
       "      <td>91</td>\n",
       "      <td>Sony Clie PEG-SJ20 Handheld</td>\n",
       "      <td>No Description</td>\n",
       "    </tr>\n",
       "    <tr>\n",
       "      <th>95</th>\n",
       "      <td>96</td>\n",
       "      <td>Tablet</td>\n",
       "      <td>Sony</td>\n",
       "      <td>ST</td>\n",
       "      <td>140</td>\n",
       "      <td>Sony Clie PEG-SJ22 Handheld</td>\n",
       "      <td>No Description</td>\n",
       "    </tr>\n",
       "    <tr>\n",
       "      <th>96</th>\n",
       "      <td>97</td>\n",
       "      <td>Tablet</td>\n",
       "      <td>Sony</td>\n",
       "      <td>ST</td>\n",
       "      <td>280</td>\n",
       "      <td>Sony Clie PEG-SJ33/UL Handheld - Blue</td>\n",
       "      <td>No Description</td>\n",
       "    </tr>\n",
       "    <tr>\n",
       "      <th>97</th>\n",
       "      <td>98</td>\n",
       "      <td>Tablet</td>\n",
       "      <td>Sony</td>\n",
       "      <td>ST</td>\n",
       "      <td>196</td>\n",
       "      <td>Sony CLIE PEG-T615C/S Handheld (Silver)</td>\n",
       "      <td>No Description</td>\n",
       "    </tr>\n",
       "    <tr>\n",
       "      <th>98</th>\n",
       "      <td>99</td>\n",
       "      <td>Tablet</td>\n",
       "      <td>Sony</td>\n",
       "      <td>ST</td>\n",
       "      <td>244</td>\n",
       "      <td>Sony CLIE PEG-T665C/U Handheld</td>\n",
       "      <td>No Description</td>\n",
       "    </tr>\n",
       "  </tbody>\n",
       "</table>\n",
       "<p>99 rows × 7 columns</p>\n",
       "</div>"
      ],
      "text/plain": [
       "    ProduktID Produktkategorie Hersteller Einheit  \\\n",
       "0           1        Tablet PC       Acer      ST   \n",
       "1           2         Notebook       Acer      ST   \n",
       "2           3         Notebook       Acer      ST   \n",
       "3           4         Notebook       Acer      ST   \n",
       "4           5         Notebook       Acer      ST   \n",
       "..        ...              ...        ...     ...   \n",
       "94         95           Tablet       Sony      ST   \n",
       "95         96           Tablet       Sony      ST   \n",
       "96         97           Tablet       Sony      ST   \n",
       "97         98           Tablet       Sony      ST   \n",
       "98         99           Tablet       Sony      ST   \n",
       "\n",
       "    Herstellkosten je Einheit in EUR                                 Kurztext  \\\n",
       "0                               1189                Acer TM C104TCi Tablet PC   \n",
       "1                                851           Acer TravelMate 233XV Notebook   \n",
       "2                               1679           Acer TravelMate 281XV Notebook   \n",
       "3                                781     Acer TravelMate TM233XVi Notebook PC   \n",
       "4                                977     Acer TravelMate TM234LCi Notebook PC   \n",
       "..                               ...                                      ...   \n",
       "94                                91              Sony Clie PEG-SJ20 Handheld   \n",
       "95                               140              Sony Clie PEG-SJ22 Handheld   \n",
       "96                               280    Sony Clie PEG-SJ33/UL Handheld - Blue   \n",
       "97                               196  Sony CLIE PEG-T615C/S Handheld (Silver)   \n",
       "98                               244           Sony CLIE PEG-T665C/U Handheld   \n",
       "\n",
       "                                             Langtext  \n",
       "0          900-MHz PIII-M 256 MB RAM 40 GB Hard Drive  \n",
       "1   20-GHz Celeron-M 256 MB RAM 30 GB Hard Drive D...  \n",
       "2   180-GHz Pentium 4-M 256 MB RAM 30 GB Hard Driv...  \n",
       "3        20-GHz Celeron-M 256 MB RAM 30 GB Hard Drive  \n",
       "4        22-GHz Celeron-M 512 MB RAM 40 GB Hard Drive  \n",
       "..                                                ...  \n",
       "94                                     No Description  \n",
       "95                                     No Description  \n",
       "96                                     No Description  \n",
       "97                                     No Description  \n",
       "98                                     No Description  \n",
       "\n",
       "[99 rows x 7 columns]"
      ]
     },
     "execution_count": 22,
     "metadata": {},
     "output_type": "execute_result"
    }
   ],
   "source": [
    "db_connection = pymysql.connect(host='localhost',\n",
    "                                user=mysql_usr,\n",
    "                                password=mysql_pw,\n",
    "                                db='OLTP_DB')\n",
    "query = '''SELECT Faktentabelle_Marketing_Vertrieb.`Umsatz Ist`, \\\n",
    "                                            Faktentabelle_Marketing_Vertrieb.`Umsatz Soll`, \\\n",
    "                                            Standortestammdaten.LandBez, \\\n",
    "                                            Faktentabelle_Marketing_Vertrieb.Waehrung FROM \\\n",
    "                                                 Standortestammdaten JOIN Faktentabelle_Marketing_Vertrieb \\\n",
    "                                                     ON Standortestammdaten.FilialeID = Faktentabelle_Marketing_Vertrieb.FilialeID'''\n",
    "df_umsaetze_land_waehrung = pd.read_sql('select * from OLAP_DB.produktstamm', con=db_connection)\n",
    "\n",
    "# df_umsaetze_land_waehrung = df_umsaetze_land_waehrung[df_umsaetze_land_waehrung[\"Umsatz Ist\"] > 0].groupby([\"Waehrung\", \"LandBez\"]).sum().round(1)\n",
    "\n",
    "df_umsaetze_land_waehrung\n"
   ]
  },
  {
   "cell_type": "markdown",
   "id": "2e61f394-8cb9-468c-bf4e-c94e721e7b89",
   "metadata": {},
   "source": [
    "### Aufgabe 1.1"
   ]
  },
  {
   "cell_type": "code",
   "execution_count": 5,
   "id": "99398325-3b04-4ef6-95f0-224aae5e3a36",
   "metadata": {},
   "outputs": [
    {
     "data": {
      "text/html": [
       "<div>\n",
       "<style scoped>\n",
       "    .dataframe tbody tr th:only-of-type {\n",
       "        vertical-align: middle;\n",
       "    }\n",
       "\n",
       "    .dataframe tbody tr th {\n",
       "        vertical-align: top;\n",
       "    }\n",
       "\n",
       "    .dataframe thead th {\n",
       "        text-align: right;\n",
       "    }\n",
       "</style>\n",
       "<table border=\"1\" class=\"dataframe\">\n",
       "  <thead>\n",
       "    <tr style=\"text-align: right;\">\n",
       "      <th></th>\n",
       "      <th></th>\n",
       "      <th></th>\n",
       "      <th>Gewinn</th>\n",
       "    </tr>\n",
       "    <tr>\n",
       "      <th>LandBez</th>\n",
       "      <th>Monat</th>\n",
       "      <th>Filiale-Bez</th>\n",
       "      <th></th>\n",
       "    </tr>\n",
       "  </thead>\n",
       "  <tbody>\n",
       "    <tr>\n",
       "      <th rowspan=\"4\" valign=\"top\">Deutschland</th>\n",
       "      <th rowspan=\"4\" valign=\"top\">März</th>\n",
       "      <th>Global Computer Suppliers-Berlin</th>\n",
       "      <td>1226575.56</td>\n",
       "    </tr>\n",
       "    <tr>\n",
       "      <th>Global Computer Suppliers-Frankfurt a.M.</th>\n",
       "      <td>1340588.80</td>\n",
       "    </tr>\n",
       "    <tr>\n",
       "      <th>Global Computer Suppliers-München</th>\n",
       "      <td>1421986.22</td>\n",
       "    </tr>\n",
       "    <tr>\n",
       "      <th>Global Computer Suppliers-Stuttgart</th>\n",
       "      <td>1637243.83</td>\n",
       "    </tr>\n",
       "  </tbody>\n",
       "</table>\n",
       "</div>"
      ],
      "text/plain": [
       "                                                                Gewinn\n",
       "LandBez     Monat Filiale-Bez                                         \n",
       "Deutschland März  Global Computer Suppliers-Berlin          1226575.56\n",
       "                  Global Computer Suppliers-Frankfurt a.M.  1340588.80\n",
       "                  Global Computer Suppliers-München         1421986.22\n",
       "                  Global Computer Suppliers-Stuttgart       1637243.83"
      ]
     },
     "execution_count": 5,
     "metadata": {},
     "output_type": "execute_result"
    }
   ],
   "source": [
    "# Wie viel Gewinn haben die Filialen in Deutschland im Monat März gemacht?\n",
    "\n",
    "# INSERT CODE HERE"
   ]
  },
  {
   "cell_type": "markdown",
   "id": "62b2577b-5c17-4f83-a8d7-1a6a14696d42",
   "metadata": {},
   "source": [
    "### Aufgabe 1.2"
   ]
  },
  {
   "cell_type": "code",
   "execution_count": 6,
   "id": "8cf88505-dfe1-4f0a-bd8e-55a0d423efd0",
   "metadata": {},
   "outputs": [
    {
     "data": {
      "text/html": [
       "<div>\n",
       "<style scoped>\n",
       "    .dataframe tbody tr th:only-of-type {\n",
       "        vertical-align: middle;\n",
       "    }\n",
       "\n",
       "    .dataframe tbody tr th {\n",
       "        vertical-align: top;\n",
       "    }\n",
       "\n",
       "    .dataframe thead th {\n",
       "        text-align: right;\n",
       "    }\n",
       "</style>\n",
       "<table border=\"1\" class=\"dataframe\">\n",
       "  <thead>\n",
       "    <tr style=\"text-align: right;\">\n",
       "      <th></th>\n",
       "      <th></th>\n",
       "      <th>Gewinn</th>\n",
       "    </tr>\n",
       "    <tr>\n",
       "      <th>LandBez</th>\n",
       "      <th>Produktkategorie</th>\n",
       "      <th></th>\n",
       "    </tr>\n",
       "  </thead>\n",
       "  <tbody>\n",
       "    <tr>\n",
       "      <th rowspan=\"2\" valign=\"top\">Großbritannien</th>\n",
       "      <th>Tablet</th>\n",
       "      <td>-39642.25</td>\n",
       "    </tr>\n",
       "    <tr>\n",
       "      <th>Tablet PC</th>\n",
       "      <td>-651972.42</td>\n",
       "    </tr>\n",
       "  </tbody>\n",
       "</table>\n",
       "</div>"
      ],
      "text/plain": [
       "                                    Gewinn\n",
       "LandBez        Produktkategorie           \n",
       "Großbritannien Tablet            -39642.25\n",
       "               Tablet PC        -651972.42"
      ]
     },
     "execution_count": 6,
     "metadata": {},
     "output_type": "execute_result"
    }
   ],
   "source": [
    "# Welche Produktkategorien haben in welchen Ländern einen Verlust (negativer Gewinn) eingebracht?\n",
    "\n",
    "# INSERT CODE HERE"
   ]
  },
  {
   "cell_type": "markdown",
   "id": "ae97887b-5b42-413c-872e-a061f8b26be0",
   "metadata": {},
   "source": [
    "### Aufgabe 1.3"
   ]
  },
  {
   "cell_type": "code",
   "execution_count": 7,
   "id": "de7dfff6-a53d-4ee6-9131-3c5ce3b50ecc",
   "metadata": {},
   "outputs": [
    {
     "data": {
      "text/html": [
       "<div>\n",
       "<style scoped>\n",
       "    .dataframe tbody tr th:only-of-type {\n",
       "        vertical-align: middle;\n",
       "    }\n",
       "\n",
       "    .dataframe tbody tr th {\n",
       "        vertical-align: top;\n",
       "    }\n",
       "\n",
       "    .dataframe thead th {\n",
       "        text-align: right;\n",
       "    }\n",
       "</style>\n",
       "<table border=\"1\" class=\"dataframe\">\n",
       "  <thead>\n",
       "    <tr style=\"text-align: right;\">\n",
       "      <th></th>\n",
       "      <th>Umsatz Ist</th>\n",
       "    </tr>\n",
       "    <tr>\n",
       "      <th>Hersteller</th>\n",
       "      <th></th>\n",
       "    </tr>\n",
       "  </thead>\n",
       "  <tbody>\n",
       "    <tr>\n",
       "      <th>Acer</th>\n",
       "      <td>1.417372e+08</td>\n",
       "    </tr>\n",
       "    <tr>\n",
       "      <th>Apple</th>\n",
       "      <td>2.254569e+08</td>\n",
       "    </tr>\n",
       "    <tr>\n",
       "      <th>Casio</th>\n",
       "      <td>1.105199e+07</td>\n",
       "    </tr>\n",
       "    <tr>\n",
       "      <th>Compaq</th>\n",
       "      <td>1.633178e+08</td>\n",
       "    </tr>\n",
       "    <tr>\n",
       "      <th>HP</th>\n",
       "      <td>1.378464e+08</td>\n",
       "    </tr>\n",
       "    <tr>\n",
       "      <th>IBM</th>\n",
       "      <td>8.468053e+07</td>\n",
       "    </tr>\n",
       "    <tr>\n",
       "      <th>Sony</th>\n",
       "      <td>2.108092e+08</td>\n",
       "    </tr>\n",
       "    <tr>\n",
       "      <th>Toshiba</th>\n",
       "      <td>1.519276e+08</td>\n",
       "    </tr>\n",
       "  </tbody>\n",
       "</table>\n",
       "</div>"
      ],
      "text/plain": [
       "              Umsatz Ist\n",
       "Hersteller              \n",
       "Acer        1.417372e+08\n",
       "Apple       2.254569e+08\n",
       "Casio       1.105199e+07\n",
       "Compaq      1.633178e+08\n",
       "HP          1.378464e+08\n",
       "IBM         8.468053e+07\n",
       "Sony        2.108092e+08\n",
       "Toshiba     1.519276e+08"
      ]
     },
     "execution_count": 7,
     "metadata": {},
     "output_type": "execute_result"
    }
   ],
   "source": [
    "# Wenn dir keine eigene Fragestellung einfällt, könntest du diese nehmen:\n",
    "# Von welchen Herstellern wurde insgesamt wie viel umgesetzt?\n",
    "\n",
    "# INSERT CODE HERE"
   ]
  },
  {
   "cell_type": "markdown",
   "id": "2edbf888-a2ed-4124-af3b-ee43c027a61f",
   "metadata": {},
   "source": [
    "## Aufgabe 2: \n",
    "### Pivot Analyse (OLAP Operationen in MS Excel)"
   ]
  },
  {
   "cell_type": "markdown",
   "id": "2d59b629-f6f3-4595-b869-5743e912a7b1",
   "metadata": {},
   "source": [
    "> Nutze die Pivottabellenfunktion von Excel, um die oben bereits ausgeführten OLAP-Analysen zu erzeugen. Für jede Frage soll eine Ergebnistabelle erstellt werden. Erstelle dazu jeweils ein neues Excel-Tabellenblatt, welches die Pivot-Tabelle enthält, die zur Beantwortung der Frage aus der folgenden Liste benötigt wird. Binde zusätzlich in dieses Jupyter Notebook einen Screenshot der jeweiligen Tabelle ein.\n",
    "\n",
    "> 0. Wie hoch ist der Ist- und Soll Umsatz in jedem Land insgesamt? Ordne die Ansicht nach der Landeswährung. (das hatten wir bereits in Übungsblatt 1 und wurde hier noch mal aufgenommen, damit ihr seht, wie ein Screenshot eingebunden wird)\n",
    "> 1. Wie viel Gewinn haben die Filialen in Deutschland im Monat März gemacht? \n",
    "> 2. Welche Produktkategorien haben in welchen Ländern einen Verlust (negativer Gewinn) eingebracht?\n",
    "> 3. Deine eigene OLAP-Analyse oder meine Vorgabe"
   ]
  },
  {
   "cell_type": "markdown",
   "id": "ceb6c8bb-224d-4e3a-90ef-8f5f5549c9c0",
   "metadata": {},
   "source": [
    "### Beispiel\n",
    "![Beispiel](screenshots/Aufgabe2-0.jpg)"
   ]
  },
  {
   "cell_type": "markdown",
   "id": "e34e5d36-847f-4c04-af3e-322954a8110b",
   "metadata": {
    "jp-MarkdownHeadingCollapsed": true,
    "tags": []
   },
   "source": [
    "### Aufgabe 2.1\n",
    "INSERT SCREENSHOT HERE"
   ]
  },
  {
   "cell_type": "markdown",
   "id": "edf27fd8-8ae6-465d-8a22-39c96bc52b5b",
   "metadata": {},
   "source": [
    "### Aufgabe 2.2\n",
    "INSERT SCREENSHOT HERE"
   ]
  },
  {
   "cell_type": "markdown",
   "id": "b32b4fb4-af23-4197-8892-2e20e00dd153",
   "metadata": {},
   "source": [
    "### Aufgabe 2.3\n",
    "**Eure eigene Fragestellung oder mein Vorschlag (\"Von welchen Herstellern wurde insgesamt wie viel umgesetzt?\")**\n",
    "\n",
    "INSERT SCREENSHOT HERE"
   ]
  },
  {
   "cell_type": "markdown",
   "id": "819c6d58-af3c-437a-95d9-1bcce3d596e3",
   "metadata": {},
   "source": [
    "# WICHTIG!\n",
    "### Bitte reicht auch die Excel-Datei ein, die die einzelnen Pivot Tabellen auf jeweils einem Excel Tabellenblatt beinhaltet\n",
    "#### Name der abgebenen Exceldatei, die die Pivot Tabellen beinhaltet: \n",
    "\n",
    "`ÜB2_Lösung_Studierendenname.xlsx`"
   ]
  },
  {
   "cell_type": "markdown",
   "id": "1a0aaca0-a35c-431c-9fbc-5fc43be67266",
   "metadata": {},
   "source": [
    "# Aufgabe 3\n",
    "**Pivot Tabellen von oben (Excel) in Python via Pandas umsetzen**"
   ]
  },
  {
   "cell_type": "markdown",
   "id": "a3d68c8e-b424-424a-b39b-4113c152de5a",
   "metadata": {},
   "source": [
    "> Lade die Tabelle `Aufgabe1_daten.csv` in ein Pandas DataFrame und führe die in Excel ausgeführten OLAP Funktionen analog in Python aus."
   ]
  },
  {
   "cell_type": "code",
   "execution_count": 4,
   "id": "9cb76d67-cf9a-45f3-b89d-bceeafbce761",
   "metadata": {},
   "outputs": [],
   "source": [
    "df_PCPowerMarkt = pd.read_csv(\"data/Aufgabe1_daten.csv\", sep=\";\", decimal=\",\", index_col=0, \n",
    "                             dtype={\n",
    "                                'Umsatz Ist': 'float32',\n",
    "                                'Umsatz Soll': 'float32',\n",
    "                                'Preis Pro Einheit': 'float32',\n",
    "                                'Waehrung': 'string',\n",
    "                                'Kurztext': 'string',\n",
    "                                'Langtext': \"string\",\n",
    "                                'Produktkategorie': 'string',\n",
    "                                'Hersteller': 'string',\n",
    "                                'Produktkategorie': 'string',\n",
    "                                'Produktkategorie': 'string',\n",
    "                                'Einheit': 'string',\n",
    "                                'Filiale-Bez': 'string',\n",
    "                                'Verkaufsleiter': 'string',\n",
    "                                'Anschrift': 'string',\n",
    "                                'Filiale-PLZ': 'string',\n",
    "                                'Filiale-Ort': 'string',                               \n",
    "                                'Region': 'string',\n",
    "                                'Region-Bez': 'string',\n",
    "                                'Land': 'string',\n",
    "                                'LandBez': 'string',\n",
    "                                'Bezeichnung': 'string',\n",
    "                                'Medienart': 'string',\n",
    "                                'Verantwortlicher': 'string',\n",
    "                                'KalMonatJahr': 'string',\n",
    "                                'Monat': 'string',\n",
    "                             })\n",
    "\n"
   ]
  },
  {
   "cell_type": "markdown",
   "id": "4d74cc59-3494-4f88-aa65-c15287bdfde9",
   "metadata": {},
   "source": [
    "## Beispiel"
   ]
  },
  {
   "cell_type": "code",
   "execution_count": 5,
   "id": "c6a8856e-9e06-4db8-a97b-0cd091745334",
   "metadata": {},
   "outputs": [
    {
     "data": {
      "text/html": [
       "<div>\n",
       "<style scoped>\n",
       "    .dataframe tbody tr th:only-of-type {\n",
       "        vertical-align: middle;\n",
       "    }\n",
       "\n",
       "    .dataframe tbody tr th {\n",
       "        vertical-align: top;\n",
       "    }\n",
       "\n",
       "    .dataframe thead th {\n",
       "        text-align: right;\n",
       "    }\n",
       "</style>\n",
       "<table border=\"1\" class=\"dataframe\">\n",
       "  <thead>\n",
       "    <tr style=\"text-align: right;\">\n",
       "      <th></th>\n",
       "      <th></th>\n",
       "      <th>Umsatz Ist</th>\n",
       "      <th>Umsatz Soll</th>\n",
       "    </tr>\n",
       "    <tr>\n",
       "      <th>Waehrung</th>\n",
       "      <th>LandBez</th>\n",
       "      <th></th>\n",
       "      <th></th>\n",
       "    </tr>\n",
       "  </thead>\n",
       "  <tbody>\n",
       "    <tr>\n",
       "      <th>CAD</th>\n",
       "      <th>Kanada</th>\n",
       "      <td>62781968.0</td>\n",
       "      <td>63277852.0</td>\n",
       "    </tr>\n",
       "    <tr>\n",
       "      <th>CHF</th>\n",
       "      <th>Schweiz</th>\n",
       "      <td>39048976.0</td>\n",
       "      <td>38695908.0</td>\n",
       "    </tr>\n",
       "    <tr>\n",
       "      <th>DKK</th>\n",
       "      <th>Dänemark</th>\n",
       "      <td>325200992.0</td>\n",
       "      <td>328575328.0</td>\n",
       "    </tr>\n",
       "    <tr>\n",
       "      <th rowspan=\"8\" valign=\"top\">EUR</th>\n",
       "      <th>Belgien</th>\n",
       "      <td>20394028.0</td>\n",
       "      <td>20565188.0</td>\n",
       "    </tr>\n",
       "    <tr>\n",
       "      <th>Deutschland</th>\n",
       "      <td>265841024.0</td>\n",
       "      <td>266301152.0</td>\n",
       "    </tr>\n",
       "    <tr>\n",
       "      <th>Finnland</th>\n",
       "      <td>23106586.0</td>\n",
       "      <td>23077226.0</td>\n",
       "    </tr>\n",
       "    <tr>\n",
       "      <th>Frankreich</th>\n",
       "      <td>21821336.0</td>\n",
       "      <td>21910184.0</td>\n",
       "    </tr>\n",
       "    <tr>\n",
       "      <th>Irland</th>\n",
       "      <td>12813939.0</td>\n",
       "      <td>12912657.0</td>\n",
       "    </tr>\n",
       "    <tr>\n",
       "      <th>Italien</th>\n",
       "      <td>18228290.0</td>\n",
       "      <td>18206736.0</td>\n",
       "    </tr>\n",
       "    <tr>\n",
       "      <th>Spanien</th>\n",
       "      <td>30676048.0</td>\n",
       "      <td>30399152.0</td>\n",
       "    </tr>\n",
       "    <tr>\n",
       "      <th>Österreich</th>\n",
       "      <td>35221092.0</td>\n",
       "      <td>35442796.0</td>\n",
       "    </tr>\n",
       "    <tr>\n",
       "      <th>GBP</th>\n",
       "      <th>Großbritannien</th>\n",
       "      <td>11301620.0</td>\n",
       "      <td>11341017.0</td>\n",
       "    </tr>\n",
       "    <tr>\n",
       "      <th>NOK</th>\n",
       "      <th>Norwegen</th>\n",
       "      <td>47821760.0</td>\n",
       "      <td>47554196.0</td>\n",
       "    </tr>\n",
       "    <tr>\n",
       "      <th>PLN</th>\n",
       "      <th>Polen</th>\n",
       "      <td>85469352.0</td>\n",
       "      <td>85670744.0</td>\n",
       "    </tr>\n",
       "    <tr>\n",
       "      <th>SEK</th>\n",
       "      <th>Schweden</th>\n",
       "      <td>98238072.0</td>\n",
       "      <td>97905560.0</td>\n",
       "    </tr>\n",
       "    <tr>\n",
       "      <th>USD</th>\n",
       "      <th>USA</th>\n",
       "      <td>28862592.0</td>\n",
       "      <td>28653558.0</td>\n",
       "    </tr>\n",
       "  </tbody>\n",
       "</table>\n",
       "</div>"
      ],
      "text/plain": [
       "                          Umsatz Ist  Umsatz Soll\n",
       "Waehrung LandBez                                 \n",
       "CAD      Kanada           62781968.0   63277852.0\n",
       "CHF      Schweiz          39048976.0   38695908.0\n",
       "DKK      Dänemark        325200992.0  328575328.0\n",
       "EUR      Belgien          20394028.0   20565188.0\n",
       "         Deutschland     265841024.0  266301152.0\n",
       "         Finnland         23106586.0   23077226.0\n",
       "         Frankreich       21821336.0   21910184.0\n",
       "         Irland           12813939.0   12912657.0\n",
       "         Italien          18228290.0   18206736.0\n",
       "         Spanien          30676048.0   30399152.0\n",
       "         Österreich       35221092.0   35442796.0\n",
       "GBP      Großbritannien   11301620.0   11341017.0\n",
       "NOK      Norwegen         47821760.0   47554196.0\n",
       "PLN      Polen            85469352.0   85670744.0\n",
       "SEK      Schweden         98238072.0   97905560.0\n",
       "USD      USA              28862592.0   28653558.0"
      ]
     },
     "metadata": {},
     "output_type": "display_data"
    }
   ],
   "source": [
    "df_pivot_beispiel = pd.pivot_table(df_PCPowerMarkt, values=['Umsatz Ist', 'Umsatz Soll'], index=['Waehrung', 'LandBez'], aggfunc=np.sum)\n",
    "display(df_pivot_beispiel)"
   ]
  },
  {
   "cell_type": "markdown",
   "id": "04933907-4ebd-40d4-b687-5b722280147a",
   "metadata": {},
   "source": [
    "### Aufgabe 3.1"
   ]
  },
  {
   "cell_type": "code",
   "execution_count": 6,
   "id": "e100e012-2641-484e-b4b1-eb5969dd100e",
   "metadata": {},
   "outputs": [
    {
     "data": {
      "text/html": [
       "<div>\n",
       "<style scoped>\n",
       "    .dataframe tbody tr th:only-of-type {\n",
       "        vertical-align: middle;\n",
       "    }\n",
       "\n",
       "    .dataframe tbody tr th {\n",
       "        vertical-align: top;\n",
       "    }\n",
       "\n",
       "    .dataframe thead th {\n",
       "        text-align: right;\n",
       "    }\n",
       "</style>\n",
       "<table border=\"1\" class=\"dataframe\">\n",
       "  <thead>\n",
       "    <tr style=\"text-align: right;\">\n",
       "      <th></th>\n",
       "      <th></th>\n",
       "      <th></th>\n",
       "      <th>Gewinn</th>\n",
       "    </tr>\n",
       "    <tr>\n",
       "      <th>LandBez</th>\n",
       "      <th>Filiale-Bez</th>\n",
       "      <th>Monat</th>\n",
       "      <th></th>\n",
       "    </tr>\n",
       "  </thead>\n",
       "  <tbody>\n",
       "    <tr>\n",
       "      <th rowspan=\"4\" valign=\"top\">Deutschland</th>\n",
       "      <th>Global Computer Suppliers-Berlin</th>\n",
       "      <th>März</th>\n",
       "      <td>1226575.56</td>\n",
       "    </tr>\n",
       "    <tr>\n",
       "      <th>Global Computer Suppliers-Frankfurt a.M.</th>\n",
       "      <th>März</th>\n",
       "      <td>1340588.80</td>\n",
       "    </tr>\n",
       "    <tr>\n",
       "      <th>Global Computer Suppliers-München</th>\n",
       "      <th>März</th>\n",
       "      <td>1421986.22</td>\n",
       "    </tr>\n",
       "    <tr>\n",
       "      <th>Global Computer Suppliers-Stuttgart</th>\n",
       "      <th>März</th>\n",
       "      <td>1637243.83</td>\n",
       "    </tr>\n",
       "  </tbody>\n",
       "</table>\n",
       "</div>"
      ],
      "text/plain": [
       "                                                                Gewinn\n",
       "LandBez     Filiale-Bez                              Monat            \n",
       "Deutschland Global Computer Suppliers-Berlin         März   1226575.56\n",
       "            Global Computer Suppliers-Frankfurt a.M. März   1340588.80\n",
       "            Global Computer Suppliers-München        März   1421986.22\n",
       "            Global Computer Suppliers-Stuttgart      März   1637243.83"
      ]
     },
     "execution_count": 6,
     "metadata": {},
     "output_type": "execute_result"
    }
   ],
   "source": [
    "# INSERT CODE HERE"
   ]
  },
  {
   "cell_type": "markdown",
   "id": "574880ee-f2a0-414b-beda-fb54816a37f6",
   "metadata": {},
   "source": [
    "### Aufgabe 3.2"
   ]
  },
  {
   "cell_type": "code",
   "execution_count": 16,
   "id": "5e28c6a0-c23d-4ffb-833a-c2420fd06139",
   "metadata": {},
   "outputs": [
    {
     "data": {
      "text/html": [
       "<div>\n",
       "<style scoped>\n",
       "    .dataframe tbody tr th:only-of-type {\n",
       "        vertical-align: middle;\n",
       "    }\n",
       "\n",
       "    .dataframe tbody tr th {\n",
       "        vertical-align: top;\n",
       "    }\n",
       "\n",
       "    .dataframe thead th {\n",
       "        text-align: right;\n",
       "    }\n",
       "</style>\n",
       "<table border=\"1\" class=\"dataframe\">\n",
       "  <thead>\n",
       "    <tr style=\"text-align: right;\">\n",
       "      <th></th>\n",
       "      <th></th>\n",
       "      <th>Gewinn</th>\n",
       "    </tr>\n",
       "    <tr>\n",
       "      <th>LandBez</th>\n",
       "      <th>Produktkategorie</th>\n",
       "      <th></th>\n",
       "    </tr>\n",
       "  </thead>\n",
       "  <tbody>\n",
       "    <tr>\n",
       "      <th rowspan=\"2\" valign=\"top\">Großbritannien</th>\n",
       "      <th>Tablet</th>\n",
       "      <td>-39642.25</td>\n",
       "    </tr>\n",
       "    <tr>\n",
       "      <th>Tablet PC</th>\n",
       "      <td>-651972.42</td>\n",
       "    </tr>\n",
       "  </tbody>\n",
       "</table>\n",
       "</div>"
      ],
      "text/plain": [
       "                                    Gewinn\n",
       "LandBez        Produktkategorie           \n",
       "Großbritannien Tablet            -39642.25\n",
       "               Tablet PC        -651972.42"
      ]
     },
     "execution_count": 16,
     "metadata": {},
     "output_type": "execute_result"
    }
   ],
   "source": [
    "# INSERT CODE HERE"
   ]
  },
  {
   "cell_type": "markdown",
   "id": "032c466e-4f74-483f-94fb-870baf54dfe7",
   "metadata": {},
   "source": [
    "### Aufgabe 3.3"
   ]
  },
  {
   "cell_type": "code",
   "execution_count": 17,
   "id": "d52c84ad-f5f4-4ce8-a76a-c9b8bbc8a9b4",
   "metadata": {},
   "outputs": [
    {
     "data": {
      "text/html": [
       "<div>\n",
       "<style scoped>\n",
       "    .dataframe tbody tr th:only-of-type {\n",
       "        vertical-align: middle;\n",
       "    }\n",
       "\n",
       "    .dataframe tbody tr th {\n",
       "        vertical-align: top;\n",
       "    }\n",
       "\n",
       "    .dataframe thead th {\n",
       "        text-align: right;\n",
       "    }\n",
       "</style>\n",
       "<table border=\"1\" class=\"dataframe\">\n",
       "  <thead>\n",
       "    <tr style=\"text-align: right;\">\n",
       "      <th></th>\n",
       "      <th>Umsatz Ist</th>\n",
       "    </tr>\n",
       "    <tr>\n",
       "      <th>Hersteller</th>\n",
       "      <th></th>\n",
       "    </tr>\n",
       "  </thead>\n",
       "  <tbody>\n",
       "    <tr>\n",
       "      <th>Acer</th>\n",
       "      <td>141737200.0</td>\n",
       "    </tr>\n",
       "    <tr>\n",
       "      <th>Apple</th>\n",
       "      <td>225456928.0</td>\n",
       "    </tr>\n",
       "    <tr>\n",
       "      <th>Casio</th>\n",
       "      <td>11051993.0</td>\n",
       "    </tr>\n",
       "    <tr>\n",
       "      <th>Compaq</th>\n",
       "      <td>163317760.0</td>\n",
       "    </tr>\n",
       "    <tr>\n",
       "      <th>HP</th>\n",
       "      <td>137846400.0</td>\n",
       "    </tr>\n",
       "    <tr>\n",
       "      <th>IBM</th>\n",
       "      <td>84680528.0</td>\n",
       "    </tr>\n",
       "    <tr>\n",
       "      <th>Sony</th>\n",
       "      <td>210809232.0</td>\n",
       "    </tr>\n",
       "    <tr>\n",
       "      <th>Toshiba</th>\n",
       "      <td>151927616.0</td>\n",
       "    </tr>\n",
       "  </tbody>\n",
       "</table>\n",
       "</div>"
      ],
      "text/plain": [
       "             Umsatz Ist\n",
       "Hersteller             \n",
       "Acer        141737200.0\n",
       "Apple       225456928.0\n",
       "Casio        11051993.0\n",
       "Compaq      163317760.0\n",
       "HP          137846400.0\n",
       "IBM          84680528.0\n",
       "Sony        210809232.0\n",
       "Toshiba     151927616.0"
      ]
     },
     "execution_count": 17,
     "metadata": {},
     "output_type": "execute_result"
    }
   ],
   "source": [
    "# INSERT CODE HERE"
   ]
  },
  {
   "cell_type": "code",
   "execution_count": null,
   "id": "4e3f9f1d-52d9-43e8-814d-a8e4e864852b",
   "metadata": {},
   "outputs": [],
   "source": []
  }
 ],
 "metadata": {
  "kernelspec": {
   "display_name": "Python 3 (ipykernel)",
   "language": "python",
   "name": "python3"
  },
  "language_info": {
   "codemirror_mode": {
    "name": "ipython",
    "version": 3
   },
   "file_extension": ".py",
   "mimetype": "text/x-python",
   "name": "python",
   "nbconvert_exporter": "python",
   "pygments_lexer": "ipython3",
   "version": "3.9.16"
  }
 },
 "nbformat": 4,
 "nbformat_minor": 5
}
